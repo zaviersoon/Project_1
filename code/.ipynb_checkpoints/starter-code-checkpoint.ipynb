{
 "cells": [
  {
   "cell_type": "markdown",
   "metadata": {},
   "source": [
    "<img src=\"http://imgur.com/1ZcRyrc.png\" style=\"float: left; margin: 20px; height: 55px\">\n",
    "\n",
    "# Project 1: Standardized Test Analysis"
   ]
  },
  {
   "cell_type": "markdown",
   "metadata": {},
   "source": [
    "--- \n",
    "# Part 1\n",
    "\n",
    "Part 1 requires knowledge of basic Python.\n",
    "\n",
    "---"
   ]
  },
  {
   "cell_type": "markdown",
   "metadata": {},
   "source": [
    "## Problem Statement"
   ]
  },
  {
   "cell_type": "markdown",
   "metadata": {},
   "source": [
    "The U.S. Department of Education wants to promote preparation for global competitiveness and intends to announce a new grant program. The hypothesis is that additional funding to the states will increase the states' SAT participation and SAT scores. This project examines the relationship between per pupil funding, the SAT participation and SAT scores for the years 2018 and 2019, with a recommendation on how to best distribute the additional funding."
   ]
  },
  {
   "cell_type": "markdown",
   "metadata": {},
   "source": [
    "### Contents:\n",
    "- [Background](#Background)\n",
    "- [Outside Research](#Outside-Research)\n",
    "- [Data Import & Cleaning](#Data-Import-and-Cleaning)\n",
    "- [Exploratory Data Analysis](#Exploratory-Data-Analysis)\n",
    "- [Data Visualization](#Visualize-the-Data)\n",
    "- [Conclusions and Recommendations](#Conclusions-and-Recommendations)"
   ]
  },
  {
   "cell_type": "markdown",
   "metadata": {},
   "source": [
    "## Background"
   ]
  },
  {
   "cell_type": "markdown",
   "metadata": {},
   "source": [
    "The SAT and ACT are standardized tests that many colleges and universities in the United States require for their admissions process. This score is used along with other materials such as grade point average (GPA) and essay responses to determine whether or not a potential student will be accepted to the university.\n",
    "\n",
    "The SAT has two sections of the test: Evidence-Based Reading and Writing and Math ([*source*](https://www.princetonreview.com/college/sat-sections)). The ACT has 4 sections: English, Mathematics, Reading, and Science, with an additional optional writing section ([*source*](https://www.act.org/content/act/en/products-and-services/the-act/scores/understanding-your-scores.html)). They have different score ranges, which you can read more about on their websites or additional outside sources (a quick Google search will help you understand the scores for each test):\n",
    "* [SAT](https://collegereadiness.collegeboard.org/sat)\n",
    "* [ACT](https://www.act.org/content/act/en.html)\n",
    "\n",
    "Standardized tests have long been a controversial topic for students, administrators, and legislators. Since the 1940's, an increasing number of colleges have been using scores from sudents' performances on tests like the SAT and the ACT as a measure for college readiness and aptitude ([*source*](https://www.minotdailynews.com/news/local-news/2017/04/a-brief-history-of-the-sat-and-act/)). Supporters of these tests argue that these scores can be used as an objective measure to determine college admittance. Opponents of these tests claim that these tests are not accurate measures of students potential or ability and serve as an inequitable barrier to entry. Lately, more and more schools are opting to drop the SAT/ACT requirement for their Fall 2021 applications ([*read more about this here*](https://www.cnn.com/2020/04/14/us/coronavirus-colleges-sat-act-test-trnd/index.html))."
   ]
  },
  {
   "cell_type": "markdown",
   "metadata": {},
   "source": [
    "**To-Do:** *Fill out this cell (or edit the above cell) with any other background or information that is necessary for your problem statement.*"
   ]
  },
  {
   "cell_type": "markdown",
   "metadata": {},
   "source": [
    "### Choose your Data\n",
    "\n",
    "There are 10 datasets included in the [`data`](./data/) folder for this project. You are required to pick **at least two** of these to complete your analysis. Feel free to use more than two if you would like, or add other relevant datasets you find online.\n",
    "\n",
    "* [`act_2017.csv`](../data/act_2017.csv): 2017 ACT Scores by State\n",
    "* [`act_2018.csv`](../data/act_2018.csv): 2018 ACT Scores by State\n",
    "* [`act_2019.csv`](../data/act_2019.csv): 2019 ACT Scores by State\n",
    "* [`act_2019_ca.csv`](../data/act_2019_ca.csv): 2019 ACT Scores in California by School\n",
    "* [`sat_2017.csv`](../data/sat_2017.csv): 2017 SAT Scores by State\n",
    "* [`sat_2018.csv`](../data/sat_2018.csv): 2018 SAT Scores by State\n",
    "* [`sat_2019.csv`](../data/sat_2019.csv): 2019 SAT Scores by State\n",
    "* [`sat_2019_by_intended_college_major.csv`](../data/sat_2019_by_intended_college_major.csv): 2019 SAT Scores by Intended College Major\n",
    "* [`sat_2019_ca.csv`](../data/sat_2019_ca.csv): 2019 SAT Scores in California by School\n",
    "* [`sat_act_by_college.csv`](../data/sat_act_by_college.csv): Ranges of Accepted ACT & SAT Student Scores by Colleges"
   ]
  },
  {
   "cell_type": "markdown",
   "metadata": {},
   "source": [
    "The datasets that will be using in our analysis are as follows:\n",
    "\n",
    "1. [`sat_2018.csv`](../data/sat_2018.csv): 2018 SAT Scores by State\n",
    "    - The dataset contains participation rate, each component exam (Evidence-Based Reading & Writing) mean score and mean total score for respective state in the United States in 2018.\n",
    "2. [`sat_2019.csv`](../data/sat_2019.csv): 2019 SAT Scores by State\n",
    "    - The dataset contains participation rate, each component exam (Evidence-Based Reading & Writing) mean score and mean total score for respective state in the United States in 2018."
   ]
  },
  {
   "cell_type": "markdown",
   "metadata": {},
   "source": [
    "### Outside Research"
   ]
  },
  {
   "cell_type": "markdown",
   "metadata": {},
   "source": [
    "Based on your problem statement and your chosen datasets, spend some time doing outside research on state policies or additional information that might be relevant. Summarize your findings below. If you bring in any outside tables or charts, make sure you are explicit about having borrowed them. If you quote any text, make sure that it renders as being quoted. **Make sure that you cite your sources.**"
   ]
  },
  {
   "cell_type": "markdown",
   "metadata": {},
   "source": [
    "* [`total_spending_per_student_by_state_2018_2019.csv`](../data/total_spending_per_student_by_state_2018_2019.csv): 2018 & 2019 Total Average Spent per Student by State ([source_1](https://www.census.gov/data/tables/2018/econ/school-finances/secondary-education-finance.html))([source_2](https://www.census.gov/data/tables/2019/econ/school-finances/secondary-education-finance.html))"
   ]
  },
  {
   "cell_type": "markdown",
   "metadata": {},
   "source": [
    "### Coding Challenges\n",
    "\n",
    "1. Manually calculate mean:\n",
    "\n",
    "    Write a function that takes in values and returns the mean of the values. Create a list of numbers that you test on your function to check to make sure your function works!\n",
    "    \n",
    "    *Note*: Do not use any mean methods built-in to any Python libraries to do this! This should be done without importing any additional libraries."
   ]
  },
  {
   "cell_type": "code",
   "execution_count": 1,
   "metadata": {},
   "outputs": [],
   "source": [
    "# Manually calculate mean:\n",
    "\n",
    "def average(numbers):\n",
    "    return sum(numbers) / len(numbers)"
   ]
  },
  {
   "cell_type": "markdown",
   "metadata": {},
   "source": [
    "2. Manually calculate standard deviation:\n",
    "\n",
    "    The formula for standard deviation is below:\n",
    "\n",
    "    $$\\sigma = \\sqrt{\\frac{1}{n}\\sum_{i=1}^n(x_i - \\mu)^2}$$\n",
    "\n",
    "    Where $x_i$ represents each value in the dataset, $\\mu$ represents the mean of all values in the dataset and $n$ represents the number of values in the dataset.\n",
    "\n",
    "    Write a function that takes in values and returns the standard deviation of the values using the formula above. Hint: use the function you wrote above to calculate the mean! Use the list of numbers you created above to test on your function.\n",
    "    \n",
    "    *Note*: Do not use any standard deviation methods built-in to any Python libraries to do this! This should be done without importing any additional libraries."
   ]
  },
  {
   "cell_type": "code",
   "execution_count": 2,
   "metadata": {},
   "outputs": [],
   "source": [
    "# Manually calculate standard deviation:\n",
    "\n",
    "def standard_dev(numbers):\n",
    "    \n",
    "    mean = average(numbers)\n",
    "    n_num = len(numbers)\n",
    "    total = 0\n",
    "    std_dev = 0 \n",
    "    \n",
    "    for num in numbers:\n",
    "        total += (num - mean)**2\n",
    "        \n",
    "    std_dev = (total/n_num)**(0.5)\n",
    "    \n",
    "    return std_dev"
   ]
  },
  {
   "cell_type": "markdown",
   "metadata": {},
   "source": [
    "3. Data cleaning function:\n",
    "    \n",
    "    Write a function that takes in a string that is a number and a percent symbol (ex. '50%', '30.5%', etc.) and converts this to a float that is the decimal approximation of the percent. For example, inputting '50%' in your function should return 0.5, '30.5%' should return 0.305, etc. Make sure to test your function to make sure it works!\n",
    "\n",
    "You will use these functions later on in the project!"
   ]
  },
  {
   "cell_type": "code",
   "execution_count": 3,
   "metadata": {},
   "outputs": [],
   "source": [
    "# Convert string to float:\n",
    "\n",
    "def convert_string_to_float(x):\n",
    "    x = float(x.replace('%', ''))/100\n",
    "    return x"
   ]
  },
  {
   "cell_type": "markdown",
   "metadata": {},
   "source": [
    "--- \n",
    "# Part 2\n",
    "\n",
    "Part 2 requires knowledge of Pandas, EDA, data cleaning, and data visualization.\n",
    "\n",
    "---"
   ]
  },
  {
   "cell_type": "markdown",
   "metadata": {},
   "source": [
    "*All libraries used should be added here*"
   ]
  },
  {
   "cell_type": "code",
   "execution_count": 4,
   "metadata": {},
   "outputs": [],
   "source": [
    "# Imports:\n",
    "\n",
    "import numpy as np\n",
    "import pandas as pd\n",
    "import matplotlib.pyplot as plt\n",
    "import seaborn as sns\n",
    "\n",
    "from sklearn.linear_model import LinearRegression"
   ]
  },
  {
   "cell_type": "markdown",
   "metadata": {},
   "source": [
    "## Data Import and Cleaning"
   ]
  },
  {
   "cell_type": "markdown",
   "metadata": {},
   "source": [
    "### Data Import & Cleaning\n",
    "\n",
    "Import the datasets that you selected for this project and go through the following steps at a minimum. You are welcome to do further cleaning as you feel necessary:\n",
    "1. Display the data: print the first 5 rows of each dataframe to your Jupyter notebook.\n",
    "2. Check for missing values.\n",
    "3. Check for any obvious issues with the observations (keep in mind the minimum & maximum possible values for each test/subtest).\n",
    "4. Fix any errors you identified in steps 2-3.\n",
    "5. Display the data types of each feature.\n",
    "6. Fix any incorrect data types found in step 5.\n",
    "    - Fix any individual values preventing other columns from being the appropriate type.\n",
    "    - If your dataset has a column of percents (ex. '50%', '30.5%', etc.), use the function you wrote in Part 1 (coding challenges, number 3) to convert this to floats! *Hint*: use `.map()` or `.apply()`.\n",
    "7. Rename Columns.\n",
    "    - Column names should be all lowercase.\n",
    "    - Column names should not contain spaces (underscores will suffice--this allows for using the `df.column_name` method to access columns in addition to `df['column_name']`).\n",
    "    - Column names should be unique and informative.\n",
    "8. Drop unnecessary rows (if needed).\n",
    "9. Merge dataframes that can be merged.\n",
    "10. Perform any additional cleaning that you feel is necessary.\n",
    "11. Save your cleaned and merged dataframes as csv files."
   ]
  },
  {
   "cell_type": "markdown",
   "metadata": {},
   "source": [
    "#### 2018 SAT Data Import & Cleaning"
   ]
  },
  {
   "cell_type": "code",
   "execution_count": 5,
   "metadata": {},
   "outputs": [],
   "source": [
    "# Read in sat_2018 csv file\n",
    "\n",
    "sat_2018 = pd.read_csv('../data/sat_2018.csv')"
   ]
  },
  {
   "cell_type": "code",
   "execution_count": 6,
   "metadata": {},
   "outputs": [
    {
     "name": "stdout",
     "output_type": "stream",
     "text": [
      "(51, 5)\n",
      "\n",
      "\n"
     ]
    },
    {
     "data": {
      "text/html": [
       "<div>\n",
       "<style scoped>\n",
       "    .dataframe tbody tr th:only-of-type {\n",
       "        vertical-align: middle;\n",
       "    }\n",
       "\n",
       "    .dataframe tbody tr th {\n",
       "        vertical-align: top;\n",
       "    }\n",
       "\n",
       "    .dataframe thead th {\n",
       "        text-align: right;\n",
       "    }\n",
       "</style>\n",
       "<table border=\"1\" class=\"dataframe\">\n",
       "  <thead>\n",
       "    <tr style=\"text-align: right;\">\n",
       "      <th></th>\n",
       "      <th>State</th>\n",
       "      <th>Participation</th>\n",
       "      <th>Evidence-Based Reading and Writing</th>\n",
       "      <th>Math</th>\n",
       "      <th>Total</th>\n",
       "    </tr>\n",
       "  </thead>\n",
       "  <tbody>\n",
       "    <tr>\n",
       "      <th>0</th>\n",
       "      <td>Alabama</td>\n",
       "      <td>6%</td>\n",
       "      <td>595</td>\n",
       "      <td>571</td>\n",
       "      <td>1166</td>\n",
       "    </tr>\n",
       "    <tr>\n",
       "      <th>1</th>\n",
       "      <td>Alaska</td>\n",
       "      <td>43%</td>\n",
       "      <td>562</td>\n",
       "      <td>544</td>\n",
       "      <td>1106</td>\n",
       "    </tr>\n",
       "    <tr>\n",
       "      <th>2</th>\n",
       "      <td>Arizona</td>\n",
       "      <td>29%</td>\n",
       "      <td>577</td>\n",
       "      <td>572</td>\n",
       "      <td>1149</td>\n",
       "    </tr>\n",
       "    <tr>\n",
       "      <th>3</th>\n",
       "      <td>Arkansas</td>\n",
       "      <td>5%</td>\n",
       "      <td>592</td>\n",
       "      <td>576</td>\n",
       "      <td>1169</td>\n",
       "    </tr>\n",
       "    <tr>\n",
       "      <th>4</th>\n",
       "      <td>California</td>\n",
       "      <td>60%</td>\n",
       "      <td>540</td>\n",
       "      <td>536</td>\n",
       "      <td>1076</td>\n",
       "    </tr>\n",
       "  </tbody>\n",
       "</table>\n",
       "</div>"
      ],
      "text/plain": [
       "        State Participation  Evidence-Based Reading and Writing  Math  Total\n",
       "0     Alabama            6%                                 595   571   1166\n",
       "1      Alaska           43%                                 562   544   1106\n",
       "2     Arizona           29%                                 577   572   1149\n",
       "3    Arkansas            5%                                 592   576   1169\n",
       "4  California           60%                                 540   536   1076"
      ]
     },
     "execution_count": 6,
     "metadata": {},
     "output_type": "execute_result"
    }
   ],
   "source": [
    "# Check the shape and Display first 5 rows of sat_2018 csv file\n",
    "\n",
    "print(sat_2018.shape)\n",
    "print('\\n')\n",
    "sat_2018.head()\n"
   ]
  },
  {
   "cell_type": "code",
   "execution_count": 7,
   "metadata": {},
   "outputs": [
    {
     "data": {
      "text/plain": [
       "State                                 0\n",
       "Participation                         0\n",
       "Evidence-Based Reading and Writing    0\n",
       "Math                                  0\n",
       "Total                                 0\n",
       "dtype: int64"
      ]
     },
     "execution_count": 7,
     "metadata": {},
     "output_type": "execute_result"
    }
   ],
   "source": [
    "# Check for Missing Value\n",
    "\n",
    "sat_2018.isna().sum().sort_values(ascending = False)"
   ]
  },
  {
   "cell_type": "markdown",
   "metadata": {},
   "source": [
    "- No missing value in sat_2018 data."
   ]
  },
  {
   "cell_type": "code",
   "execution_count": 8,
   "metadata": {},
   "outputs": [
    {
     "data": {
      "text/html": [
       "<div>\n",
       "<style scoped>\n",
       "    .dataframe tbody tr th:only-of-type {\n",
       "        vertical-align: middle;\n",
       "    }\n",
       "\n",
       "    .dataframe tbody tr th {\n",
       "        vertical-align: top;\n",
       "    }\n",
       "\n",
       "    .dataframe thead th {\n",
       "        text-align: right;\n",
       "    }\n",
       "</style>\n",
       "<table border=\"1\" class=\"dataframe\">\n",
       "  <thead>\n",
       "    <tr style=\"text-align: right;\">\n",
       "      <th></th>\n",
       "      <th>State</th>\n",
       "      <th>Participation</th>\n",
       "      <th>Evidence-Based Reading and Writing</th>\n",
       "      <th>Math</th>\n",
       "      <th>Total</th>\n",
       "    </tr>\n",
       "  </thead>\n",
       "  <tbody>\n",
       "  </tbody>\n",
       "</table>\n",
       "</div>"
      ],
      "text/plain": [
       "Empty DataFrame\n",
       "Columns: [State, Participation, Evidence-Based Reading and Writing, Math, Total]\n",
       "Index: []"
      ]
     },
     "execution_count": 8,
     "metadata": {},
     "output_type": "execute_result"
    }
   ],
   "source": [
    "# Check if test/subject score within minimum & maximum possible values\n",
    "# Each subject minimum score is 200 and maximum score is 800. Total minimum score is 400 and maximum score is 1600.\n",
    "\n",
    "sat_2018[(~sat_2018['Evidence-Based Reading and Writing'].between(200,800)) | \n",
    "         (~sat_2018['Math'].between(200,800)) | \n",
    "         (~sat_2018['Total'].between(400,1600))]"
   ]
  },
  {
   "cell_type": "code",
   "execution_count": 9,
   "metadata": {},
   "outputs": [
    {
     "data": {
      "text/html": [
       "<div>\n",
       "<style scoped>\n",
       "    .dataframe tbody tr th:only-of-type {\n",
       "        vertical-align: middle;\n",
       "    }\n",
       "\n",
       "    .dataframe tbody tr th {\n",
       "        vertical-align: top;\n",
       "    }\n",
       "\n",
       "    .dataframe thead th {\n",
       "        text-align: right;\n",
       "    }\n",
       "</style>\n",
       "<table border=\"1\" class=\"dataframe\">\n",
       "  <thead>\n",
       "    <tr style=\"text-align: right;\">\n",
       "      <th></th>\n",
       "      <th>State</th>\n",
       "      <th>Participation</th>\n",
       "      <th>Evidence-Based Reading and Writing</th>\n",
       "      <th>Math</th>\n",
       "      <th>Total</th>\n",
       "    </tr>\n",
       "  </thead>\n",
       "  <tbody>\n",
       "    <tr>\n",
       "      <th>3</th>\n",
       "      <td>Arkansas</td>\n",
       "      <td>5%</td>\n",
       "      <td>592</td>\n",
       "      <td>576</td>\n",
       "      <td>1169</td>\n",
       "    </tr>\n",
       "    <tr>\n",
       "      <th>6</th>\n",
       "      <td>Connecticut</td>\n",
       "      <td>100%</td>\n",
       "      <td>535</td>\n",
       "      <td>519</td>\n",
       "      <td>1053</td>\n",
       "    </tr>\n",
       "    <tr>\n",
       "      <th>7</th>\n",
       "      <td>Delaware</td>\n",
       "      <td>100%</td>\n",
       "      <td>505</td>\n",
       "      <td>492</td>\n",
       "      <td>998</td>\n",
       "    </tr>\n",
       "    <tr>\n",
       "      <th>16</th>\n",
       "      <td>Kansas</td>\n",
       "      <td>4%</td>\n",
       "      <td>633</td>\n",
       "      <td>631</td>\n",
       "      <td>1265</td>\n",
       "    </tr>\n",
       "    <tr>\n",
       "      <th>22</th>\n",
       "      <td>Michigan</td>\n",
       "      <td>100%</td>\n",
       "      <td>511</td>\n",
       "      <td>499</td>\n",
       "      <td>1011</td>\n",
       "    </tr>\n",
       "    <tr>\n",
       "      <th>31</th>\n",
       "      <td>New Mexico</td>\n",
       "      <td>16%</td>\n",
       "      <td>552</td>\n",
       "      <td>540</td>\n",
       "      <td>1093</td>\n",
       "    </tr>\n",
       "    <tr>\n",
       "      <th>33</th>\n",
       "      <td>North Carolina</td>\n",
       "      <td>52%</td>\n",
       "      <td>554</td>\n",
       "      <td>543</td>\n",
       "      <td>1098</td>\n",
       "    </tr>\n",
       "    <tr>\n",
       "      <th>45</th>\n",
       "      <td>Vermont</td>\n",
       "      <td>64%</td>\n",
       "      <td>565</td>\n",
       "      <td>554</td>\n",
       "      <td>1120</td>\n",
       "    </tr>\n",
       "    <tr>\n",
       "      <th>50</th>\n",
       "      <td>Wyoming</td>\n",
       "      <td>3%</td>\n",
       "      <td>633</td>\n",
       "      <td>625</td>\n",
       "      <td>1257</td>\n",
       "    </tr>\n",
       "  </tbody>\n",
       "</table>\n",
       "</div>"
      ],
      "text/plain": [
       "             State Participation  Evidence-Based Reading and Writing  Math  \\\n",
       "3         Arkansas            5%                                 592   576   \n",
       "6      Connecticut          100%                                 535   519   \n",
       "7         Delaware          100%                                 505   492   \n",
       "16          Kansas            4%                                 633   631   \n",
       "22        Michigan          100%                                 511   499   \n",
       "31      New Mexico           16%                                 552   540   \n",
       "33  North Carolina           52%                                 554   543   \n",
       "45         Vermont           64%                                 565   554   \n",
       "50         Wyoming            3%                                 633   625   \n",
       "\n",
       "    Total  \n",
       "3    1169  \n",
       "6    1053  \n",
       "7     998  \n",
       "16   1265  \n",
       "22   1011  \n",
       "31   1093  \n",
       "33   1098  \n",
       "45   1120  \n",
       "50   1257  "
      ]
     },
     "execution_count": 9,
     "metadata": {},
     "output_type": "execute_result"
    }
   ],
   "source": [
    "# Check if the total score performed correctly\n",
    "\n",
    "sat_2018[(sat_2018['Evidence-Based Reading and Writing']) + (sat_2018['Math']) != sat_2018['Total']]"
   ]
  },
  {
   "cell_type": "markdown",
   "metadata": {},
   "source": [
    "- The data shows total score of some state does not tally with the sum of Evidence-Based Reading and Writing Score & Math Score by 1 point. This could be due the raw average score of Evidence-Based Reading and Writing & Math subject consists of decimal places and causes the Total score to be round down when presented in integer format. However, it will not have a big impact on analysis. Thus, total score error will be updated to be equal to sum of Evidence-Based Reading and Writing Score & Math Score."
   ]
  },
  {
   "cell_type": "code",
   "execution_count": 10,
   "metadata": {},
   "outputs": [],
   "source": [
    "# Fixing the total score\n",
    "# Alternative\n",
    "# wrong_total_state_18 = ['Arkansas', 'Connecticut', 'Delaware', 'Kansas', 'Michigan', 'New Mexico', 'North Carolina', 'Vermont', 'Wyoming']\n",
    "#for state in wrong_total_state_18:\n",
    "#    sat_2018.loc[sat_2018['State'] == state, ['Total']] = sat_2018[sat_2018['State'] == state]['Evidence-Based Reading and Writing'] + sat_2018[sat_2018['State'] == state]['Math']\n",
    "\n",
    "state_index = [3,6,7,16,22,31,33,45,50] \n",
    "\n",
    "sat_2018.loc[state_index , ['Total']] = [sat_2018.loc[i]['Evidence-Based Reading and Writing'] + sat_2018.loc[i]['Math'] for i in state_index]\n"
   ]
  },
  {
   "cell_type": "code",
   "execution_count": 11,
   "metadata": {},
   "outputs": [
    {
     "data": {
      "text/html": [
       "<div>\n",
       "<style scoped>\n",
       "    .dataframe tbody tr th:only-of-type {\n",
       "        vertical-align: middle;\n",
       "    }\n",
       "\n",
       "    .dataframe tbody tr th {\n",
       "        vertical-align: top;\n",
       "    }\n",
       "\n",
       "    .dataframe thead th {\n",
       "        text-align: right;\n",
       "    }\n",
       "</style>\n",
       "<table border=\"1\" class=\"dataframe\">\n",
       "  <thead>\n",
       "    <tr style=\"text-align: right;\">\n",
       "      <th></th>\n",
       "      <th>State</th>\n",
       "      <th>Participation</th>\n",
       "      <th>Evidence-Based Reading and Writing</th>\n",
       "      <th>Math</th>\n",
       "      <th>Total</th>\n",
       "    </tr>\n",
       "  </thead>\n",
       "  <tbody>\n",
       "  </tbody>\n",
       "</table>\n",
       "</div>"
      ],
      "text/plain": [
       "Empty DataFrame\n",
       "Columns: [State, Participation, Evidence-Based Reading and Writing, Math, Total]\n",
       "Index: []"
      ]
     },
     "execution_count": 11,
     "metadata": {},
     "output_type": "execute_result"
    }
   ],
   "source": [
    "# Check if the total succesfully corrected\n",
    "\n",
    "sat_2018[(sat_2018['Evidence-Based Reading and Writing']) + (sat_2018['Math']) != sat_2018['Total']]"
   ]
  },
  {
   "cell_type": "code",
   "execution_count": 12,
   "metadata": {},
   "outputs": [
    {
     "data": {
      "text/plain": [
       "State                                 object\n",
       "Participation                         object\n",
       "Evidence-Based Reading and Writing     int64\n",
       "Math                                   int64\n",
       "Total                                  int64\n",
       "dtype: object"
      ]
     },
     "execution_count": 12,
     "metadata": {},
     "output_type": "execute_result"
    }
   ],
   "source": [
    "# Check for Data Type\n",
    "\n",
    "sat_2018.dtypes"
   ]
  },
  {
   "cell_type": "markdown",
   "metadata": {},
   "source": [
    "- Participation's data type is object where it should be float as it's a value in term of percentage."
   ]
  },
  {
   "cell_type": "code",
   "execution_count": 13,
   "metadata": {},
   "outputs": [],
   "source": [
    "# Convert sat_2018 Participation column object data type to float \n",
    "\n",
    "sat_2018['Participation'] = sat_2018['Participation'].apply(convert_string_to_float)"
   ]
  },
  {
   "cell_type": "code",
   "execution_count": 14,
   "metadata": {},
   "outputs": [
    {
     "name": "stdout",
     "output_type": "stream",
     "text": [
      "<class 'pandas.core.frame.DataFrame'>\n",
      "RangeIndex: 51 entries, 0 to 50\n",
      "Data columns (total 5 columns):\n",
      " #   Column                              Non-Null Count  Dtype  \n",
      "---  ------                              --------------  -----  \n",
      " 0   State                               51 non-null     object \n",
      " 1   Participation                       51 non-null     float64\n",
      " 2   Evidence-Based Reading and Writing  51 non-null     int64  \n",
      " 3   Math                                51 non-null     int64  \n",
      " 4   Total                               51 non-null     int64  \n",
      "dtypes: float64(1), int64(3), object(1)\n",
      "memory usage: 2.1+ KB\n",
      "\n",
      "\n"
     ]
    },
    {
     "data": {
      "text/html": [
       "<div>\n",
       "<style scoped>\n",
       "    .dataframe tbody tr th:only-of-type {\n",
       "        vertical-align: middle;\n",
       "    }\n",
       "\n",
       "    .dataframe tbody tr th {\n",
       "        vertical-align: top;\n",
       "    }\n",
       "\n",
       "    .dataframe thead th {\n",
       "        text-align: right;\n",
       "    }\n",
       "</style>\n",
       "<table border=\"1\" class=\"dataframe\">\n",
       "  <thead>\n",
       "    <tr style=\"text-align: right;\">\n",
       "      <th></th>\n",
       "      <th>State</th>\n",
       "      <th>Participation</th>\n",
       "      <th>Evidence-Based Reading and Writing</th>\n",
       "      <th>Math</th>\n",
       "      <th>Total</th>\n",
       "    </tr>\n",
       "  </thead>\n",
       "  <tbody>\n",
       "    <tr>\n",
       "      <th>0</th>\n",
       "      <td>Alabama</td>\n",
       "      <td>0.06</td>\n",
       "      <td>595</td>\n",
       "      <td>571</td>\n",
       "      <td>1166</td>\n",
       "    </tr>\n",
       "    <tr>\n",
       "      <th>1</th>\n",
       "      <td>Alaska</td>\n",
       "      <td>0.43</td>\n",
       "      <td>562</td>\n",
       "      <td>544</td>\n",
       "      <td>1106</td>\n",
       "    </tr>\n",
       "    <tr>\n",
       "      <th>2</th>\n",
       "      <td>Arizona</td>\n",
       "      <td>0.29</td>\n",
       "      <td>577</td>\n",
       "      <td>572</td>\n",
       "      <td>1149</td>\n",
       "    </tr>\n",
       "    <tr>\n",
       "      <th>3</th>\n",
       "      <td>Arkansas</td>\n",
       "      <td>0.05</td>\n",
       "      <td>592</td>\n",
       "      <td>576</td>\n",
       "      <td>1168</td>\n",
       "    </tr>\n",
       "    <tr>\n",
       "      <th>4</th>\n",
       "      <td>California</td>\n",
       "      <td>0.60</td>\n",
       "      <td>540</td>\n",
       "      <td>536</td>\n",
       "      <td>1076</td>\n",
       "    </tr>\n",
       "  </tbody>\n",
       "</table>\n",
       "</div>"
      ],
      "text/plain": [
       "        State  Participation  Evidence-Based Reading and Writing  Math  Total\n",
       "0     Alabama           0.06                                 595   571   1166\n",
       "1      Alaska           0.43                                 562   544   1106\n",
       "2     Arizona           0.29                                 577   572   1149\n",
       "3    Arkansas           0.05                                 592   576   1168\n",
       "4  California           0.60                                 540   536   1076"
      ]
     },
     "execution_count": 14,
     "metadata": {},
     "output_type": "execute_result"
    }
   ],
   "source": [
    "# Check if Participation column successfully convert object data type to float and display the output \n",
    "\n",
    "sat_2018.info()\n",
    "print('\\n')\n",
    "sat_2018.head()"
   ]
  },
  {
   "cell_type": "code",
   "execution_count": 15,
   "metadata": {},
   "outputs": [
    {
     "data": {
      "text/html": [
       "<div>\n",
       "<style scoped>\n",
       "    .dataframe tbody tr th:only-of-type {\n",
       "        vertical-align: middle;\n",
       "    }\n",
       "\n",
       "    .dataframe tbody tr th {\n",
       "        vertical-align: top;\n",
       "    }\n",
       "\n",
       "    .dataframe thead th {\n",
       "        text-align: right;\n",
       "    }\n",
       "</style>\n",
       "<table border=\"1\" class=\"dataframe\">\n",
       "  <thead>\n",
       "    <tr style=\"text-align: right;\">\n",
       "      <th></th>\n",
       "      <th>state</th>\n",
       "      <th>sat_18_participation</th>\n",
       "      <th>sat_18_ebrw</th>\n",
       "      <th>sat_18_math</th>\n",
       "      <th>sat_18_total</th>\n",
       "    </tr>\n",
       "  </thead>\n",
       "  <tbody>\n",
       "    <tr>\n",
       "      <th>0</th>\n",
       "      <td>Alabama</td>\n",
       "      <td>0.06</td>\n",
       "      <td>595</td>\n",
       "      <td>571</td>\n",
       "      <td>1166</td>\n",
       "    </tr>\n",
       "    <tr>\n",
       "      <th>1</th>\n",
       "      <td>Alaska</td>\n",
       "      <td>0.43</td>\n",
       "      <td>562</td>\n",
       "      <td>544</td>\n",
       "      <td>1106</td>\n",
       "    </tr>\n",
       "    <tr>\n",
       "      <th>2</th>\n",
       "      <td>Arizona</td>\n",
       "      <td>0.29</td>\n",
       "      <td>577</td>\n",
       "      <td>572</td>\n",
       "      <td>1149</td>\n",
       "    </tr>\n",
       "    <tr>\n",
       "      <th>3</th>\n",
       "      <td>Arkansas</td>\n",
       "      <td>0.05</td>\n",
       "      <td>592</td>\n",
       "      <td>576</td>\n",
       "      <td>1168</td>\n",
       "    </tr>\n",
       "    <tr>\n",
       "      <th>4</th>\n",
       "      <td>California</td>\n",
       "      <td>0.60</td>\n",
       "      <td>540</td>\n",
       "      <td>536</td>\n",
       "      <td>1076</td>\n",
       "    </tr>\n",
       "  </tbody>\n",
       "</table>\n",
       "</div>"
      ],
      "text/plain": [
       "        state  sat_18_participation  sat_18_ebrw  sat_18_math  sat_18_total\n",
       "0     Alabama                  0.06          595          571          1166\n",
       "1      Alaska                  0.43          562          544          1106\n",
       "2     Arizona                  0.29          577          572          1149\n",
       "3    Arkansas                  0.05          592          576          1168\n",
       "4  California                  0.60          540          536          1076"
      ]
     },
     "execution_count": 15,
     "metadata": {},
     "output_type": "execute_result"
    }
   ],
   "source": [
    "# Renaming the column & Display the Table\n",
    "\n",
    "sat_2018.rename(columns = {'State' : 'state',\n",
    "                            'Participation' : 'sat_18_participation',\n",
    "                            'Evidence-Based Reading and Writing' : 'sat_18_ebrw',\n",
    "                            'Math' : 'sat_18_math',\n",
    "                            'Total' : 'sat_18_total'}, inplace = True)\n",
    "\n",
    "sat_2018.head()"
   ]
  },
  {
   "cell_type": "markdown",
   "metadata": {},
   "source": [
    "#### 2019 SAT Data Import & Cleaning"
   ]
  },
  {
   "cell_type": "code",
   "execution_count": 16,
   "metadata": {},
   "outputs": [],
   "source": [
    "# Read in sat_2019 csv file\n",
    "\n",
    "sat_2019 = pd.read_csv('../data/sat_2019.csv')"
   ]
  },
  {
   "cell_type": "code",
   "execution_count": 17,
   "metadata": {},
   "outputs": [
    {
     "name": "stdout",
     "output_type": "stream",
     "text": [
      "(53, 5)\n",
      "\n",
      "\n"
     ]
    },
    {
     "data": {
      "text/html": [
       "<div>\n",
       "<style scoped>\n",
       "    .dataframe tbody tr th:only-of-type {\n",
       "        vertical-align: middle;\n",
       "    }\n",
       "\n",
       "    .dataframe tbody tr th {\n",
       "        vertical-align: top;\n",
       "    }\n",
       "\n",
       "    .dataframe thead th {\n",
       "        text-align: right;\n",
       "    }\n",
       "</style>\n",
       "<table border=\"1\" class=\"dataframe\">\n",
       "  <thead>\n",
       "    <tr style=\"text-align: right;\">\n",
       "      <th></th>\n",
       "      <th>State</th>\n",
       "      <th>Participation Rate</th>\n",
       "      <th>EBRW</th>\n",
       "      <th>Math</th>\n",
       "      <th>Total</th>\n",
       "    </tr>\n",
       "  </thead>\n",
       "  <tbody>\n",
       "    <tr>\n",
       "      <th>0</th>\n",
       "      <td>Alabama</td>\n",
       "      <td>7%</td>\n",
       "      <td>583</td>\n",
       "      <td>560</td>\n",
       "      <td>1143</td>\n",
       "    </tr>\n",
       "    <tr>\n",
       "      <th>1</th>\n",
       "      <td>Alaska</td>\n",
       "      <td>41%</td>\n",
       "      <td>556</td>\n",
       "      <td>541</td>\n",
       "      <td>1097</td>\n",
       "    </tr>\n",
       "    <tr>\n",
       "      <th>2</th>\n",
       "      <td>Arizona</td>\n",
       "      <td>31%</td>\n",
       "      <td>569</td>\n",
       "      <td>565</td>\n",
       "      <td>1134</td>\n",
       "    </tr>\n",
       "    <tr>\n",
       "      <th>3</th>\n",
       "      <td>Arkansas</td>\n",
       "      <td>6%</td>\n",
       "      <td>582</td>\n",
       "      <td>559</td>\n",
       "      <td>1141</td>\n",
       "    </tr>\n",
       "    <tr>\n",
       "      <th>4</th>\n",
       "      <td>California</td>\n",
       "      <td>63%</td>\n",
       "      <td>534</td>\n",
       "      <td>531</td>\n",
       "      <td>1065</td>\n",
       "    </tr>\n",
       "  </tbody>\n",
       "</table>\n",
       "</div>"
      ],
      "text/plain": [
       "        State Participation Rate  EBRW  Math  Total\n",
       "0     Alabama                 7%   583   560   1143\n",
       "1      Alaska                41%   556   541   1097\n",
       "2     Arizona                31%   569   565   1134\n",
       "3    Arkansas                 6%   582   559   1141\n",
       "4  California                63%   534   531   1065"
      ]
     },
     "execution_count": 17,
     "metadata": {},
     "output_type": "execute_result"
    }
   ],
   "source": [
    "# Check the shape and Display first 5 rows of sat_2019 csv file\n",
    "\n",
    "print(sat_2019.shape)\n",
    "print('\\n')\n",
    "sat_2019.head()"
   ]
  },
  {
   "cell_type": "markdown",
   "metadata": {},
   "source": [
    "- The shape is different from sat_2018 data."
   ]
  },
  {
   "cell_type": "code",
   "execution_count": 18,
   "metadata": {},
   "outputs": [
    {
     "data": {
      "text/plain": [
       "State                 0\n",
       "Participation Rate    0\n",
       "EBRW                  0\n",
       "Math                  0\n",
       "Total                 0\n",
       "dtype: int64"
      ]
     },
     "execution_count": 18,
     "metadata": {},
     "output_type": "execute_result"
    }
   ],
   "source": [
    "# Check for Missing Value\n",
    "\n",
    "sat_2019.isna().sum().sort_values(ascending = False)"
   ]
  },
  {
   "cell_type": "markdown",
   "metadata": {},
   "source": [
    "- No missing value in sat_2019 data."
   ]
  },
  {
   "cell_type": "code",
   "execution_count": 19,
   "metadata": {},
   "outputs": [
    {
     "data": {
      "text/html": [
       "<div>\n",
       "<style scoped>\n",
       "    .dataframe tbody tr th:only-of-type {\n",
       "        vertical-align: middle;\n",
       "    }\n",
       "\n",
       "    .dataframe tbody tr th {\n",
       "        vertical-align: top;\n",
       "    }\n",
       "\n",
       "    .dataframe thead th {\n",
       "        text-align: right;\n",
       "    }\n",
       "</style>\n",
       "<table border=\"1\" class=\"dataframe\">\n",
       "  <thead>\n",
       "    <tr style=\"text-align: right;\">\n",
       "      <th></th>\n",
       "      <th>State</th>\n",
       "      <th>Participation Rate</th>\n",
       "      <th>EBRW</th>\n",
       "      <th>Math</th>\n",
       "      <th>Total</th>\n",
       "    </tr>\n",
       "  </thead>\n",
       "  <tbody>\n",
       "  </tbody>\n",
       "</table>\n",
       "</div>"
      ],
      "text/plain": [
       "Empty DataFrame\n",
       "Columns: [State, Participation Rate, EBRW, Math, Total]\n",
       "Index: []"
      ]
     },
     "execution_count": 19,
     "metadata": {},
     "output_type": "execute_result"
    }
   ],
   "source": [
    "# Check if test/subject score within minimum & maximum possible values\n",
    "# Each subject minimum score is 200 and maximum score is 800. Total minimum score is 400 and maximum score is 1600.\n",
    "\n",
    "sat_2019[(~sat_2019['EBRW'].between(200,800)) | \n",
    "         (~sat_2019['Math'].between(200,800)) | \n",
    "         (~sat_2019['Total'].between(400,1600))]"
   ]
  },
  {
   "cell_type": "code",
   "execution_count": 20,
   "metadata": {},
   "outputs": [
    {
     "data": {
      "text/html": [
       "<div>\n",
       "<style scoped>\n",
       "    .dataframe tbody tr th:only-of-type {\n",
       "        vertical-align: middle;\n",
       "    }\n",
       "\n",
       "    .dataframe tbody tr th {\n",
       "        vertical-align: top;\n",
       "    }\n",
       "\n",
       "    .dataframe thead th {\n",
       "        text-align: right;\n",
       "    }\n",
       "</style>\n",
       "<table border=\"1\" class=\"dataframe\">\n",
       "  <thead>\n",
       "    <tr style=\"text-align: right;\">\n",
       "      <th></th>\n",
       "      <th>State</th>\n",
       "      <th>Participation Rate</th>\n",
       "      <th>EBRW</th>\n",
       "      <th>Math</th>\n",
       "      <th>Total</th>\n",
       "    </tr>\n",
       "  </thead>\n",
       "  <tbody>\n",
       "    <tr>\n",
       "      <th>6</th>\n",
       "      <td>Connecticut</td>\n",
       "      <td>100%</td>\n",
       "      <td>529</td>\n",
       "      <td>516</td>\n",
       "      <td>1046</td>\n",
       "    </tr>\n",
       "    <tr>\n",
       "      <th>10</th>\n",
       "      <td>Georgia</td>\n",
       "      <td>71%</td>\n",
       "      <td>538</td>\n",
       "      <td>519</td>\n",
       "      <td>1058</td>\n",
       "    </tr>\n",
       "    <tr>\n",
       "      <th>18</th>\n",
       "      <td>Louisiana</td>\n",
       "      <td>5%</td>\n",
       "      <td>610</td>\n",
       "      <td>591</td>\n",
       "      <td>1200</td>\n",
       "    </tr>\n",
       "    <tr>\n",
       "      <th>19</th>\n",
       "      <td>Maine</td>\n",
       "      <td>99%</td>\n",
       "      <td>512</td>\n",
       "      <td>502</td>\n",
       "      <td>1013</td>\n",
       "    </tr>\n",
       "    <tr>\n",
       "      <th>24</th>\n",
       "      <td>Mississippi</td>\n",
       "      <td>3%</td>\n",
       "      <td>628</td>\n",
       "      <td>608</td>\n",
       "      <td>1237</td>\n",
       "    </tr>\n",
       "    <tr>\n",
       "      <th>25</th>\n",
       "      <td>Missouri</td>\n",
       "      <td>4%</td>\n",
       "      <td>622</td>\n",
       "      <td>615</td>\n",
       "      <td>1236</td>\n",
       "    </tr>\n",
       "    <tr>\n",
       "      <th>27</th>\n",
       "      <td>Nebraska</td>\n",
       "      <td>3%</td>\n",
       "      <td>628</td>\n",
       "      <td>631</td>\n",
       "      <td>1260</td>\n",
       "    </tr>\n",
       "    <tr>\n",
       "      <th>30</th>\n",
       "      <td>New Jersey</td>\n",
       "      <td>82%</td>\n",
       "      <td>544</td>\n",
       "      <td>545</td>\n",
       "      <td>1090</td>\n",
       "    </tr>\n",
       "    <tr>\n",
       "      <th>35</th>\n",
       "      <td>Ohio</td>\n",
       "      <td>19%</td>\n",
       "      <td>550</td>\n",
       "      <td>548</td>\n",
       "      <td>1097</td>\n",
       "    </tr>\n",
       "    <tr>\n",
       "      <th>36</th>\n",
       "      <td>Oklahoma</td>\n",
       "      <td>22%</td>\n",
       "      <td>490</td>\n",
       "      <td>472</td>\n",
       "      <td>963</td>\n",
       "    </tr>\n",
       "    <tr>\n",
       "      <th>39</th>\n",
       "      <td>Puerto Rico</td>\n",
       "      <td>—</td>\n",
       "      <td>483</td>\n",
       "      <td>462</td>\n",
       "      <td>944</td>\n",
       "    </tr>\n",
       "    <tr>\n",
       "      <th>45</th>\n",
       "      <td>Utah</td>\n",
       "      <td>4%</td>\n",
       "      <td>614</td>\n",
       "      <td>615</td>\n",
       "      <td>1230</td>\n",
       "    </tr>\n",
       "    <tr>\n",
       "      <th>48</th>\n",
       "      <td>Virginia</td>\n",
       "      <td>68%</td>\n",
       "      <td>567</td>\n",
       "      <td>551</td>\n",
       "      <td>1119</td>\n",
       "    </tr>\n",
       "  </tbody>\n",
       "</table>\n",
       "</div>"
      ],
      "text/plain": [
       "          State Participation Rate  EBRW  Math  Total\n",
       "6   Connecticut               100%   529   516   1046\n",
       "10      Georgia                71%   538   519   1058\n",
       "18    Louisiana                 5%   610   591   1200\n",
       "19        Maine                99%   512   502   1013\n",
       "24  Mississippi                 3%   628   608   1237\n",
       "25     Missouri                 4%   622   615   1236\n",
       "27     Nebraska                 3%   628   631   1260\n",
       "30   New Jersey                82%   544   545   1090\n",
       "35         Ohio                19%   550   548   1097\n",
       "36     Oklahoma                22%   490   472    963\n",
       "39  Puerto Rico                  —   483   462    944\n",
       "45         Utah                 4%   614   615   1230\n",
       "48     Virginia                68%   567   551   1119"
      ]
     },
     "execution_count": 20,
     "metadata": {},
     "output_type": "execute_result"
    }
   ],
   "source": [
    "# Check if the total performed correctly \n",
    "\n",
    "sat_2019[(sat_2019['EBRW']) + (sat_2019['Math']) != sat_2019['Total']]"
   ]
  },
  {
   "cell_type": "markdown",
   "metadata": {},
   "source": [
    "- Similar to sat_2018 data, sat_2019 data shows total score of some state does not tally with the sum of Evidence-Based Reading and Writing Score & Math Score by 1 point. This could be due the raw average score of Evidence-Based Reading and Writing & Math subject consists of decimal places and causes the Total score to be round down when presented in integer format. However, it will not have a big impact on analysis. Thus, total score error will be updated to be equal to summation of Evidence-Based Reading and Writing Score & Math Score."
   ]
  },
  {
   "cell_type": "code",
   "execution_count": 21,
   "metadata": {},
   "outputs": [],
   "source": [
    "# Fixing the total score\n",
    "# Alternative\n",
    "#wrong_total_state_19 = ['Connecticut', 'Georgia', 'Louisiana', 'Maine', 'Mississippi', 'Missouri', 'Nebraska', 'New Jersey', 'Ohio', 'Oklahoma', 'Puerto Rico', 'Utah', 'Virginia']\n",
    "#for state in wrong_total_state_19:\n",
    "#    sat_2019.loc[sat_2019['State'] == state, ['Total']] = sat_2019[sat_2019['State'] == state]['EBRW'] + sat_2019[sat_2019['State'] == state]['Math']\n",
    "    \n",
    "state_index = [6, 10, 18, 19, 24, 25, 27, 30, 35, 36, 39, 45, 48] \n",
    "\n",
    "sat_2019.loc[state_index , ['Total']] = [sat_2019.loc[i]['EBRW'] + sat_2019.loc[i]['Math'] for i in state_index]"
   ]
  },
  {
   "cell_type": "code",
   "execution_count": 22,
   "metadata": {},
   "outputs": [
    {
     "data": {
      "text/html": [
       "<div>\n",
       "<style scoped>\n",
       "    .dataframe tbody tr th:only-of-type {\n",
       "        vertical-align: middle;\n",
       "    }\n",
       "\n",
       "    .dataframe tbody tr th {\n",
       "        vertical-align: top;\n",
       "    }\n",
       "\n",
       "    .dataframe thead th {\n",
       "        text-align: right;\n",
       "    }\n",
       "</style>\n",
       "<table border=\"1\" class=\"dataframe\">\n",
       "  <thead>\n",
       "    <tr style=\"text-align: right;\">\n",
       "      <th></th>\n",
       "      <th>State</th>\n",
       "      <th>Participation Rate</th>\n",
       "      <th>EBRW</th>\n",
       "      <th>Math</th>\n",
       "      <th>Total</th>\n",
       "    </tr>\n",
       "  </thead>\n",
       "  <tbody>\n",
       "  </tbody>\n",
       "</table>\n",
       "</div>"
      ],
      "text/plain": [
       "Empty DataFrame\n",
       "Columns: [State, Participation Rate, EBRW, Math, Total]\n",
       "Index: []"
      ]
     },
     "execution_count": 22,
     "metadata": {},
     "output_type": "execute_result"
    }
   ],
   "source": [
    "# Check if the total succesfully updated correctly \n",
    "\n",
    "sat_2019[(sat_2019['EBRW']) + (sat_2019['Math']) != sat_2019['Total']]"
   ]
  },
  {
   "cell_type": "code",
   "execution_count": 23,
   "metadata": {},
   "outputs": [
    {
     "data": {
      "text/plain": [
       "State                 object\n",
       "Participation Rate    object\n",
       "EBRW                   int64\n",
       "Math                   int64\n",
       "Total                  int64\n",
       "dtype: object"
      ]
     },
     "execution_count": 23,
     "metadata": {},
     "output_type": "execute_result"
    }
   ],
   "source": [
    "# Check for Data Type\n",
    "\n",
    "sat_2019.dtypes"
   ]
  },
  {
   "cell_type": "markdown",
   "metadata": {},
   "source": [
    "- Similar to sat_18 data, participation's data type is object where it should be float as it's a value in term of percentage. In addition, sat_2019 has 53 entries vs sat_18 has 51 entries, indicating sat_2019 has additional data."
   ]
  },
  {
   "cell_type": "code",
   "execution_count": 24,
   "metadata": {},
   "outputs": [
    {
     "data": {
      "text/html": [
       "<div>\n",
       "<style scoped>\n",
       "    .dataframe tbody tr th:only-of-type {\n",
       "        vertical-align: middle;\n",
       "    }\n",
       "\n",
       "    .dataframe tbody tr th {\n",
       "        vertical-align: top;\n",
       "    }\n",
       "\n",
       "    .dataframe thead th {\n",
       "        text-align: right;\n",
       "    }\n",
       "</style>\n",
       "<table border=\"1\" class=\"dataframe\">\n",
       "  <thead>\n",
       "    <tr style=\"text-align: right;\">\n",
       "      <th></th>\n",
       "      <th>State</th>\n",
       "      <th>Participation Rate</th>\n",
       "      <th>EBRW</th>\n",
       "      <th>Math</th>\n",
       "      <th>Total</th>\n",
       "    </tr>\n",
       "  </thead>\n",
       "  <tbody>\n",
       "    <tr>\n",
       "      <th>39</th>\n",
       "      <td>Puerto Rico</td>\n",
       "      <td>—</td>\n",
       "      <td>483</td>\n",
       "      <td>462</td>\n",
       "      <td>945</td>\n",
       "    </tr>\n",
       "    <tr>\n",
       "      <th>47</th>\n",
       "      <td>Virgin Islands</td>\n",
       "      <td>—</td>\n",
       "      <td>490</td>\n",
       "      <td>445</td>\n",
       "      <td>935</td>\n",
       "    </tr>\n",
       "  </tbody>\n",
       "</table>\n",
       "</div>"
      ],
      "text/plain": [
       "             State Participation Rate  EBRW  Math  Total\n",
       "39     Puerto Rico                  —   483   462    945\n",
       "47  Virgin Islands                  —   490   445    935"
      ]
     },
     "execution_count": 24,
     "metadata": {},
     "output_type": "execute_result"
    }
   ],
   "source": [
    "# Find the additional entries in sat_2019 by comparing state with sat_2018\n",
    "\n",
    "sat_2019[~sat_2019['State'].isin(sat_2018['state'])]"
   ]
  },
  {
   "cell_type": "markdown",
   "metadata": {},
   "source": [
    "- sat_2019 included two new state, Puerto Rico and Virgin Islands, in the data the participation rate is empty. Also, they are not under States of the United States of America. They are consider unincorporated territories of the United States only. Thus, Puerto Rico and Virgin Islands have to be removed in order to have a proper comparison between state."
   ]
  },
  {
   "cell_type": "code",
   "execution_count": 25,
   "metadata": {},
   "outputs": [
    {
     "data": {
      "text/plain": [
       "False    51\n",
       "Name: State, dtype: int64"
      ]
     },
     "execution_count": 25,
     "metadata": {},
     "output_type": "execute_result"
    }
   ],
   "source": [
    "# Drop Puerto Rico and Virgin Island as the analysis is about University in United States & check if both countries still present in sat_2019 data\n",
    "\n",
    "sat_2019.drop(index = [39, 47], inplace = True)\n",
    "\n",
    "sat_2019['State'].isin(['Puerto Rico','Virgin Islands']).value_counts()"
   ]
  },
  {
   "cell_type": "code",
   "execution_count": 26,
   "metadata": {},
   "outputs": [],
   "source": [
    "# Convert sat_2019 Participation column object data type to float \n",
    "\n",
    "sat_2019['Participation Rate'] = sat_2019['Participation Rate'].apply(convert_string_to_float)"
   ]
  },
  {
   "cell_type": "code",
   "execution_count": 27,
   "metadata": {},
   "outputs": [
    {
     "name": "stdout",
     "output_type": "stream",
     "text": [
      "<class 'pandas.core.frame.DataFrame'>\n",
      "Int64Index: 51 entries, 0 to 52\n",
      "Data columns (total 5 columns):\n",
      " #   Column              Non-Null Count  Dtype  \n",
      "---  ------              --------------  -----  \n",
      " 0   State               51 non-null     object \n",
      " 1   Participation Rate  51 non-null     float64\n",
      " 2   EBRW                51 non-null     int64  \n",
      " 3   Math                51 non-null     int64  \n",
      " 4   Total               51 non-null     int64  \n",
      "dtypes: float64(1), int64(3), object(1)\n",
      "memory usage: 2.4+ KB\n",
      "\n",
      "\n"
     ]
    },
    {
     "data": {
      "text/html": [
       "<div>\n",
       "<style scoped>\n",
       "    .dataframe tbody tr th:only-of-type {\n",
       "        vertical-align: middle;\n",
       "    }\n",
       "\n",
       "    .dataframe tbody tr th {\n",
       "        vertical-align: top;\n",
       "    }\n",
       "\n",
       "    .dataframe thead th {\n",
       "        text-align: right;\n",
       "    }\n",
       "</style>\n",
       "<table border=\"1\" class=\"dataframe\">\n",
       "  <thead>\n",
       "    <tr style=\"text-align: right;\">\n",
       "      <th></th>\n",
       "      <th>State</th>\n",
       "      <th>Participation Rate</th>\n",
       "      <th>EBRW</th>\n",
       "      <th>Math</th>\n",
       "      <th>Total</th>\n",
       "    </tr>\n",
       "  </thead>\n",
       "  <tbody>\n",
       "    <tr>\n",
       "      <th>0</th>\n",
       "      <td>Alabama</td>\n",
       "      <td>0.07</td>\n",
       "      <td>583</td>\n",
       "      <td>560</td>\n",
       "      <td>1143</td>\n",
       "    </tr>\n",
       "    <tr>\n",
       "      <th>1</th>\n",
       "      <td>Alaska</td>\n",
       "      <td>0.41</td>\n",
       "      <td>556</td>\n",
       "      <td>541</td>\n",
       "      <td>1097</td>\n",
       "    </tr>\n",
       "    <tr>\n",
       "      <th>2</th>\n",
       "      <td>Arizona</td>\n",
       "      <td>0.31</td>\n",
       "      <td>569</td>\n",
       "      <td>565</td>\n",
       "      <td>1134</td>\n",
       "    </tr>\n",
       "    <tr>\n",
       "      <th>3</th>\n",
       "      <td>Arkansas</td>\n",
       "      <td>0.06</td>\n",
       "      <td>582</td>\n",
       "      <td>559</td>\n",
       "      <td>1141</td>\n",
       "    </tr>\n",
       "    <tr>\n",
       "      <th>4</th>\n",
       "      <td>California</td>\n",
       "      <td>0.63</td>\n",
       "      <td>534</td>\n",
       "      <td>531</td>\n",
       "      <td>1065</td>\n",
       "    </tr>\n",
       "  </tbody>\n",
       "</table>\n",
       "</div>"
      ],
      "text/plain": [
       "        State  Participation Rate  EBRW  Math  Total\n",
       "0     Alabama                0.07   583   560   1143\n",
       "1      Alaska                0.41   556   541   1097\n",
       "2     Arizona                0.31   569   565   1134\n",
       "3    Arkansas                0.06   582   559   1141\n",
       "4  California                0.63   534   531   1065"
      ]
     },
     "execution_count": 27,
     "metadata": {},
     "output_type": "execute_result"
    }
   ],
   "source": [
    "# Check if Participation column successfully convert object data type to float and display the output \n",
    "\n",
    "sat_2019.info()\n",
    "print('\\n')\n",
    "sat_2019.head()"
   ]
  },
  {
   "cell_type": "code",
   "execution_count": 28,
   "metadata": {},
   "outputs": [
    {
     "data": {
      "text/html": [
       "<div>\n",
       "<style scoped>\n",
       "    .dataframe tbody tr th:only-of-type {\n",
       "        vertical-align: middle;\n",
       "    }\n",
       "\n",
       "    .dataframe tbody tr th {\n",
       "        vertical-align: top;\n",
       "    }\n",
       "\n",
       "    .dataframe thead th {\n",
       "        text-align: right;\n",
       "    }\n",
       "</style>\n",
       "<table border=\"1\" class=\"dataframe\">\n",
       "  <thead>\n",
       "    <tr style=\"text-align: right;\">\n",
       "      <th></th>\n",
       "      <th>state</th>\n",
       "      <th>sat_19_participation</th>\n",
       "      <th>sat_19_ebrw</th>\n",
       "      <th>sat_19_math</th>\n",
       "      <th>sat_19_total</th>\n",
       "    </tr>\n",
       "  </thead>\n",
       "  <tbody>\n",
       "    <tr>\n",
       "      <th>0</th>\n",
       "      <td>Alabama</td>\n",
       "      <td>0.07</td>\n",
       "      <td>583</td>\n",
       "      <td>560</td>\n",
       "      <td>1143</td>\n",
       "    </tr>\n",
       "    <tr>\n",
       "      <th>1</th>\n",
       "      <td>Alaska</td>\n",
       "      <td>0.41</td>\n",
       "      <td>556</td>\n",
       "      <td>541</td>\n",
       "      <td>1097</td>\n",
       "    </tr>\n",
       "    <tr>\n",
       "      <th>2</th>\n",
       "      <td>Arizona</td>\n",
       "      <td>0.31</td>\n",
       "      <td>569</td>\n",
       "      <td>565</td>\n",
       "      <td>1134</td>\n",
       "    </tr>\n",
       "    <tr>\n",
       "      <th>3</th>\n",
       "      <td>Arkansas</td>\n",
       "      <td>0.06</td>\n",
       "      <td>582</td>\n",
       "      <td>559</td>\n",
       "      <td>1141</td>\n",
       "    </tr>\n",
       "    <tr>\n",
       "      <th>4</th>\n",
       "      <td>California</td>\n",
       "      <td>0.63</td>\n",
       "      <td>534</td>\n",
       "      <td>531</td>\n",
       "      <td>1065</td>\n",
       "    </tr>\n",
       "  </tbody>\n",
       "</table>\n",
       "</div>"
      ],
      "text/plain": [
       "        state  sat_19_participation  sat_19_ebrw  sat_19_math  sat_19_total\n",
       "0     Alabama                  0.07          583          560          1143\n",
       "1      Alaska                  0.41          556          541          1097\n",
       "2     Arizona                  0.31          569          565          1134\n",
       "3    Arkansas                  0.06          582          559          1141\n",
       "4  California                  0.63          534          531          1065"
      ]
     },
     "execution_count": 28,
     "metadata": {},
     "output_type": "execute_result"
    }
   ],
   "source": [
    "# Renaming the column & Display the Table\n",
    "\n",
    "sat_2019.rename(columns = {'State' : 'state',\n",
    "                            'Participation Rate' : 'sat_19_participation',\n",
    "                            'EBRW' : 'sat_19_ebrw',\n",
    "                            'Math' : 'sat_19_math',\n",
    "                            'Total' : 'sat_19_total'}, inplace = True)\n",
    "\n",
    "sat_2019.head()"
   ]
  },
  {
   "cell_type": "markdown",
   "metadata": {},
   "source": [
    "#### total_spending_per_student_by_state_2018_2019 Data Import & Cleaning"
   ]
  },
  {
   "cell_type": "code",
   "execution_count": 29,
   "metadata": {},
   "outputs": [],
   "source": [
    "# Read in total_spending_per_student_by_state_2018_2019 csv file\n",
    "\n",
    "spending_2018_2019 = pd.read_csv('../data/total_spending_per_student_by_state_2018_2019.csv')"
   ]
  },
  {
   "cell_type": "code",
   "execution_count": 30,
   "metadata": {},
   "outputs": [
    {
     "data": {
      "text/html": [
       "<div>\n",
       "<style scoped>\n",
       "    .dataframe tbody tr th:only-of-type {\n",
       "        vertical-align: middle;\n",
       "    }\n",
       "\n",
       "    .dataframe tbody tr th {\n",
       "        vertical-align: top;\n",
       "    }\n",
       "\n",
       "    .dataframe thead th {\n",
       "        text-align: right;\n",
       "    }\n",
       "</style>\n",
       "<table border=\"1\" class=\"dataframe\">\n",
       "  <thead>\n",
       "    <tr style=\"text-align: right;\">\n",
       "      <th></th>\n",
       "      <th>State</th>\n",
       "      <th>Code</th>\n",
       "      <th>2018</th>\n",
       "      <th>2019</th>\n",
       "    </tr>\n",
       "  </thead>\n",
       "  <tbody>\n",
       "    <tr>\n",
       "      <th>0</th>\n",
       "      <td>Alabama</td>\n",
       "      <td>AL</td>\n",
       "      <td>9696.181213</td>\n",
       "      <td>10076.588580</td>\n",
       "    </tr>\n",
       "    <tr>\n",
       "      <th>1</th>\n",
       "      <td>Alaska</td>\n",
       "      <td>AK</td>\n",
       "      <td>17725.939250</td>\n",
       "      <td>18393.569180</td>\n",
       "    </tr>\n",
       "    <tr>\n",
       "      <th>2</th>\n",
       "      <td>Arizona</td>\n",
       "      <td>AZ</td>\n",
       "      <td>8254.797509</td>\n",
       "      <td>8625.472268</td>\n",
       "    </tr>\n",
       "    <tr>\n",
       "      <th>3</th>\n",
       "      <td>Arkansas</td>\n",
       "      <td>AR</td>\n",
       "      <td>10138.680600</td>\n",
       "      <td>10387.818430</td>\n",
       "    </tr>\n",
       "    <tr>\n",
       "      <th>4</th>\n",
       "      <td>California</td>\n",
       "      <td>CA</td>\n",
       "      <td>12142.715060</td>\n",
       "      <td>14034.943480</td>\n",
       "    </tr>\n",
       "  </tbody>\n",
       "</table>\n",
       "</div>"
      ],
      "text/plain": [
       "        State Code          2018          2019\n",
       "0     Alabama   AL   9696.181213  10076.588580\n",
       "1      Alaska   AK  17725.939250  18393.569180\n",
       "2     Arizona   AZ   8254.797509   8625.472268\n",
       "3    Arkansas   AR  10138.680600  10387.818430\n",
       "4  California   CA  12142.715060  14034.943480"
      ]
     },
     "execution_count": 30,
     "metadata": {},
     "output_type": "execute_result"
    }
   ],
   "source": [
    "# Display first 5 rows of total_spending_per_student_by_state_2018_2019 csv file\n",
    "\n",
    "spending_2018_2019.head()"
   ]
  },
  {
   "cell_type": "code",
   "execution_count": 31,
   "metadata": {},
   "outputs": [
    {
     "data": {
      "text/plain": [
       "State    0\n",
       "Code     0\n",
       "2018     0\n",
       "2019     0\n",
       "dtype: int64"
      ]
     },
     "execution_count": 31,
     "metadata": {},
     "output_type": "execute_result"
    }
   ],
   "source": [
    "# Check for Missing Value\n",
    "\n",
    "spending_2018_2019.isna().sum().sort_values(ascending = False)"
   ]
  },
  {
   "cell_type": "code",
   "execution_count": 32,
   "metadata": {},
   "outputs": [
    {
     "data": {
      "text/plain": [
       "State     object\n",
       "Code      object\n",
       "2018     float64\n",
       "2019     float64\n",
       "dtype: object"
      ]
     },
     "execution_count": 32,
     "metadata": {},
     "output_type": "execute_result"
    }
   ],
   "source": [
    "# Check for Data Type\n",
    "\n",
    "spending_2018_2019.dtypes"
   ]
  },
  {
   "cell_type": "markdown",
   "metadata": {},
   "source": [
    "- No missing value in total_spending_per_student_by_state_2018_2019 data. Also, the data type is correct. Minor adjustment on the funding due to spending_2018_2019 data has 6 decimal places.**"
   ]
  },
  {
   "cell_type": "code",
   "execution_count": 33,
   "metadata": {},
   "outputs": [],
   "source": [
    "# Rounding up the 2018 spending to the nearest dollars\n",
    "\n",
    "spending_2018_2019['2018'] = spending_2018_2019['2018'].round(decimals = 0).astype(np.int64)"
   ]
  },
  {
   "cell_type": "code",
   "execution_count": 34,
   "metadata": {},
   "outputs": [],
   "source": [
    "# Rounding up the 2019 spending to the nearest dollars\n",
    "\n",
    "spending_2018_2019['2019'] = spending_2018_2019['2019'].round(decimals = 0).astype(np.int64)"
   ]
  },
  {
   "cell_type": "code",
   "execution_count": 35,
   "metadata": {},
   "outputs": [
    {
     "data": {
      "text/html": [
       "<div>\n",
       "<style scoped>\n",
       "    .dataframe tbody tr th:only-of-type {\n",
       "        vertical-align: middle;\n",
       "    }\n",
       "\n",
       "    .dataframe tbody tr th {\n",
       "        vertical-align: top;\n",
       "    }\n",
       "\n",
       "    .dataframe thead th {\n",
       "        text-align: right;\n",
       "    }\n",
       "</style>\n",
       "<table border=\"1\" class=\"dataframe\">\n",
       "  <thead>\n",
       "    <tr style=\"text-align: right;\">\n",
       "      <th></th>\n",
       "      <th>State</th>\n",
       "      <th>Code</th>\n",
       "      <th>2018</th>\n",
       "      <th>2019</th>\n",
       "    </tr>\n",
       "  </thead>\n",
       "  <tbody>\n",
       "    <tr>\n",
       "      <th>0</th>\n",
       "      <td>Alabama</td>\n",
       "      <td>AL</td>\n",
       "      <td>9696</td>\n",
       "      <td>10077</td>\n",
       "    </tr>\n",
       "    <tr>\n",
       "      <th>1</th>\n",
       "      <td>Alaska</td>\n",
       "      <td>AK</td>\n",
       "      <td>17726</td>\n",
       "      <td>18394</td>\n",
       "    </tr>\n",
       "    <tr>\n",
       "      <th>2</th>\n",
       "      <td>Arizona</td>\n",
       "      <td>AZ</td>\n",
       "      <td>8255</td>\n",
       "      <td>8625</td>\n",
       "    </tr>\n",
       "    <tr>\n",
       "      <th>3</th>\n",
       "      <td>Arkansas</td>\n",
       "      <td>AR</td>\n",
       "      <td>10139</td>\n",
       "      <td>10388</td>\n",
       "    </tr>\n",
       "    <tr>\n",
       "      <th>4</th>\n",
       "      <td>California</td>\n",
       "      <td>CA</td>\n",
       "      <td>12143</td>\n",
       "      <td>14035</td>\n",
       "    </tr>\n",
       "  </tbody>\n",
       "</table>\n",
       "</div>"
      ],
      "text/plain": [
       "        State Code   2018   2019\n",
       "0     Alabama   AL   9696  10077\n",
       "1      Alaska   AK  17726  18394\n",
       "2     Arizona   AZ   8255   8625\n",
       "3    Arkansas   AR  10139  10388\n",
       "4  California   CA  12143  14035"
      ]
     },
     "execution_count": 35,
     "metadata": {},
     "output_type": "execute_result"
    }
   ],
   "source": [
    "# Display first 5 rows output \n",
    "\n",
    "spending_2018_2019.head()"
   ]
  },
  {
   "cell_type": "code",
   "execution_count": 36,
   "metadata": {},
   "outputs": [
    {
     "data": {
      "text/html": [
       "<div>\n",
       "<style scoped>\n",
       "    .dataframe tbody tr th:only-of-type {\n",
       "        vertical-align: middle;\n",
       "    }\n",
       "\n",
       "    .dataframe tbody tr th {\n",
       "        vertical-align: top;\n",
       "    }\n",
       "\n",
       "    .dataframe thead th {\n",
       "        text-align: right;\n",
       "    }\n",
       "</style>\n",
       "<table border=\"1\" class=\"dataframe\">\n",
       "  <thead>\n",
       "    <tr style=\"text-align: right;\">\n",
       "      <th></th>\n",
       "      <th>state</th>\n",
       "      <th>code</th>\n",
       "      <th>funding_18_dollars</th>\n",
       "      <th>funding_19_dollars</th>\n",
       "    </tr>\n",
       "  </thead>\n",
       "  <tbody>\n",
       "    <tr>\n",
       "      <th>0</th>\n",
       "      <td>Alabama</td>\n",
       "      <td>AL</td>\n",
       "      <td>9696</td>\n",
       "      <td>10077</td>\n",
       "    </tr>\n",
       "    <tr>\n",
       "      <th>1</th>\n",
       "      <td>Alaska</td>\n",
       "      <td>AK</td>\n",
       "      <td>17726</td>\n",
       "      <td>18394</td>\n",
       "    </tr>\n",
       "    <tr>\n",
       "      <th>2</th>\n",
       "      <td>Arizona</td>\n",
       "      <td>AZ</td>\n",
       "      <td>8255</td>\n",
       "      <td>8625</td>\n",
       "    </tr>\n",
       "    <tr>\n",
       "      <th>3</th>\n",
       "      <td>Arkansas</td>\n",
       "      <td>AR</td>\n",
       "      <td>10139</td>\n",
       "      <td>10388</td>\n",
       "    </tr>\n",
       "    <tr>\n",
       "      <th>4</th>\n",
       "      <td>California</td>\n",
       "      <td>CA</td>\n",
       "      <td>12143</td>\n",
       "      <td>14035</td>\n",
       "    </tr>\n",
       "  </tbody>\n",
       "</table>\n",
       "</div>"
      ],
      "text/plain": [
       "        state code  funding_18_dollars  funding_19_dollars\n",
       "0     Alabama   AL                9696               10077\n",
       "1      Alaska   AK               17726               18394\n",
       "2     Arizona   AZ                8255                8625\n",
       "3    Arkansas   AR               10139               10388\n",
       "4  California   CA               12143               14035"
      ]
     },
     "execution_count": 36,
     "metadata": {},
     "output_type": "execute_result"
    }
   ],
   "source": [
    "# Renaming the column & Display the Output\n",
    "\n",
    "spending_2018_2019.rename(columns = {'State' : 'state',\n",
    "                            'Code' : 'code',\n",
    "                            '2018' : 'funding_18_dollars',\n",
    "                            '2019' : 'funding_19_dollars'}, inplace = True)\n",
    "\n",
    "spending_2018_2019.head()"
   ]
  },
  {
   "cell_type": "markdown",
   "metadata": {},
   "source": [
    "#### Merging three data sat_2018, sat_2019 & spending_2018_2019"
   ]
  },
  {
   "cell_type": "code",
   "execution_count": 37,
   "metadata": {},
   "outputs": [],
   "source": [
    "# Merge sat_2018, sat_2019 & spending_2018_2019 file\n",
    "\n",
    "sat_merged = sat_2018.merge(sat_2019, on = 'state').merge(spending_2018_2019, on = 'state')"
   ]
  },
  {
   "cell_type": "code",
   "execution_count": 38,
   "metadata": {},
   "outputs": [
    {
     "name": "stdout",
     "output_type": "stream",
     "text": [
      "<class 'pandas.core.frame.DataFrame'>\n",
      "Int64Index: 51 entries, 0 to 50\n",
      "Data columns (total 12 columns):\n",
      " #   Column                Non-Null Count  Dtype  \n",
      "---  ------                --------------  -----  \n",
      " 0   state                 51 non-null     object \n",
      " 1   sat_18_participation  51 non-null     float64\n",
      " 2   sat_18_ebrw           51 non-null     int64  \n",
      " 3   sat_18_math           51 non-null     int64  \n",
      " 4   sat_18_total          51 non-null     int64  \n",
      " 5   sat_19_participation  51 non-null     float64\n",
      " 6   sat_19_ebrw           51 non-null     int64  \n",
      " 7   sat_19_math           51 non-null     int64  \n",
      " 8   sat_19_total          51 non-null     int64  \n",
      " 9   code                  51 non-null     object \n",
      " 10  funding_18_dollars    51 non-null     int64  \n",
      " 11  funding_19_dollars    51 non-null     int64  \n",
      "dtypes: float64(2), int64(8), object(2)\n",
      "memory usage: 5.2+ KB\n",
      "\n",
      "\n"
     ]
    },
    {
     "data": {
      "text/html": [
       "<div>\n",
       "<style scoped>\n",
       "    .dataframe tbody tr th:only-of-type {\n",
       "        vertical-align: middle;\n",
       "    }\n",
       "\n",
       "    .dataframe tbody tr th {\n",
       "        vertical-align: top;\n",
       "    }\n",
       "\n",
       "    .dataframe thead th {\n",
       "        text-align: right;\n",
       "    }\n",
       "</style>\n",
       "<table border=\"1\" class=\"dataframe\">\n",
       "  <thead>\n",
       "    <tr style=\"text-align: right;\">\n",
       "      <th></th>\n",
       "      <th>state</th>\n",
       "      <th>sat_18_participation</th>\n",
       "      <th>sat_18_ebrw</th>\n",
       "      <th>sat_18_math</th>\n",
       "      <th>sat_18_total</th>\n",
       "      <th>sat_19_participation</th>\n",
       "      <th>sat_19_ebrw</th>\n",
       "      <th>sat_19_math</th>\n",
       "      <th>sat_19_total</th>\n",
       "      <th>code</th>\n",
       "      <th>funding_18_dollars</th>\n",
       "      <th>funding_19_dollars</th>\n",
       "    </tr>\n",
       "  </thead>\n",
       "  <tbody>\n",
       "    <tr>\n",
       "      <th>0</th>\n",
       "      <td>Alabama</td>\n",
       "      <td>0.06</td>\n",
       "      <td>595</td>\n",
       "      <td>571</td>\n",
       "      <td>1166</td>\n",
       "      <td>0.07</td>\n",
       "      <td>583</td>\n",
       "      <td>560</td>\n",
       "      <td>1143</td>\n",
       "      <td>AL</td>\n",
       "      <td>9696</td>\n",
       "      <td>10077</td>\n",
       "    </tr>\n",
       "    <tr>\n",
       "      <th>1</th>\n",
       "      <td>Alaska</td>\n",
       "      <td>0.43</td>\n",
       "      <td>562</td>\n",
       "      <td>544</td>\n",
       "      <td>1106</td>\n",
       "      <td>0.41</td>\n",
       "      <td>556</td>\n",
       "      <td>541</td>\n",
       "      <td>1097</td>\n",
       "      <td>AK</td>\n",
       "      <td>17726</td>\n",
       "      <td>18394</td>\n",
       "    </tr>\n",
       "    <tr>\n",
       "      <th>2</th>\n",
       "      <td>Arizona</td>\n",
       "      <td>0.29</td>\n",
       "      <td>577</td>\n",
       "      <td>572</td>\n",
       "      <td>1149</td>\n",
       "      <td>0.31</td>\n",
       "      <td>569</td>\n",
       "      <td>565</td>\n",
       "      <td>1134</td>\n",
       "      <td>AZ</td>\n",
       "      <td>8255</td>\n",
       "      <td>8625</td>\n",
       "    </tr>\n",
       "    <tr>\n",
       "      <th>3</th>\n",
       "      <td>Arkansas</td>\n",
       "      <td>0.05</td>\n",
       "      <td>592</td>\n",
       "      <td>576</td>\n",
       "      <td>1168</td>\n",
       "      <td>0.06</td>\n",
       "      <td>582</td>\n",
       "      <td>559</td>\n",
       "      <td>1141</td>\n",
       "      <td>AR</td>\n",
       "      <td>10139</td>\n",
       "      <td>10388</td>\n",
       "    </tr>\n",
       "    <tr>\n",
       "      <th>4</th>\n",
       "      <td>California</td>\n",
       "      <td>0.60</td>\n",
       "      <td>540</td>\n",
       "      <td>536</td>\n",
       "      <td>1076</td>\n",
       "      <td>0.63</td>\n",
       "      <td>534</td>\n",
       "      <td>531</td>\n",
       "      <td>1065</td>\n",
       "      <td>CA</td>\n",
       "      <td>12143</td>\n",
       "      <td>14035</td>\n",
       "    </tr>\n",
       "  </tbody>\n",
       "</table>\n",
       "</div>"
      ],
      "text/plain": [
       "        state  sat_18_participation  sat_18_ebrw  sat_18_math  sat_18_total  \\\n",
       "0     Alabama                  0.06          595          571          1166   \n",
       "1      Alaska                  0.43          562          544          1106   \n",
       "2     Arizona                  0.29          577          572          1149   \n",
       "3    Arkansas                  0.05          592          576          1168   \n",
       "4  California                  0.60          540          536          1076   \n",
       "\n",
       "   sat_19_participation  sat_19_ebrw  sat_19_math  sat_19_total code  \\\n",
       "0                  0.07          583          560          1143   AL   \n",
       "1                  0.41          556          541          1097   AK   \n",
       "2                  0.31          569          565          1134   AZ   \n",
       "3                  0.06          582          559          1141   AR   \n",
       "4                  0.63          534          531          1065   CA   \n",
       "\n",
       "   funding_18_dollars  funding_19_dollars  \n",
       "0                9696               10077  \n",
       "1               17726               18394  \n",
       "2                8255                8625  \n",
       "3               10139               10388  \n",
       "4               12143               14035  "
      ]
     },
     "execution_count": 38,
     "metadata": {},
     "output_type": "execute_result"
    }
   ],
   "source": [
    "# Display the data type and first 5 rows output \n",
    "\n",
    "sat_merged.info()\n",
    "print('\\n')\n",
    "sat_merged.head()"
   ]
  },
  {
   "cell_type": "code",
   "execution_count": 39,
   "metadata": {},
   "outputs": [],
   "source": [
    "# Creating a new Column with input difference of participation rate between 2018 & 2019 \n",
    "sat_merged['dif_participation'] = sat_merged['sat_19_participation'] - sat_merged['sat_18_participation']\n",
    "\n",
    "# Creating a new Column with input difference of mean total score between 2018 & 2019 \n",
    "sat_merged['dif_total_score'] = sat_merged['sat_19_total'] - sat_merged['sat_18_total']\n",
    "\n",
    "# Creating a new Column with input difference of education funding between 2018 & 2019 \n",
    "sat_merged['dif_funding'] = sat_merged['funding_19_dollars'] - sat_merged['funding_18_dollars']"
   ]
  },
  {
   "cell_type": "code",
   "execution_count": 40,
   "metadata": {},
   "outputs": [
    {
     "data": {
      "text/html": [
       "<div>\n",
       "<style scoped>\n",
       "    .dataframe tbody tr th:only-of-type {\n",
       "        vertical-align: middle;\n",
       "    }\n",
       "\n",
       "    .dataframe tbody tr th {\n",
       "        vertical-align: top;\n",
       "    }\n",
       "\n",
       "    .dataframe thead th {\n",
       "        text-align: right;\n",
       "    }\n",
       "</style>\n",
       "<table border=\"1\" class=\"dataframe\">\n",
       "  <thead>\n",
       "    <tr style=\"text-align: right;\">\n",
       "      <th></th>\n",
       "      <th>state</th>\n",
       "      <th>sat_18_participation</th>\n",
       "      <th>sat_18_ebrw</th>\n",
       "      <th>sat_18_math</th>\n",
       "      <th>sat_18_total</th>\n",
       "      <th>sat_19_participation</th>\n",
       "      <th>sat_19_ebrw</th>\n",
       "      <th>sat_19_math</th>\n",
       "      <th>sat_19_total</th>\n",
       "      <th>code</th>\n",
       "      <th>funding_18_dollars</th>\n",
       "      <th>funding_19_dollars</th>\n",
       "      <th>dif_participation</th>\n",
       "      <th>dif_total_score</th>\n",
       "      <th>dif_funding</th>\n",
       "    </tr>\n",
       "  </thead>\n",
       "  <tbody>\n",
       "    <tr>\n",
       "      <th>0</th>\n",
       "      <td>Alabama</td>\n",
       "      <td>0.06</td>\n",
       "      <td>595</td>\n",
       "      <td>571</td>\n",
       "      <td>1166</td>\n",
       "      <td>0.07</td>\n",
       "      <td>583</td>\n",
       "      <td>560</td>\n",
       "      <td>1143</td>\n",
       "      <td>AL</td>\n",
       "      <td>9696</td>\n",
       "      <td>10077</td>\n",
       "      <td>0.01</td>\n",
       "      <td>-23</td>\n",
       "      <td>381</td>\n",
       "    </tr>\n",
       "    <tr>\n",
       "      <th>1</th>\n",
       "      <td>Alaska</td>\n",
       "      <td>0.43</td>\n",
       "      <td>562</td>\n",
       "      <td>544</td>\n",
       "      <td>1106</td>\n",
       "      <td>0.41</td>\n",
       "      <td>556</td>\n",
       "      <td>541</td>\n",
       "      <td>1097</td>\n",
       "      <td>AK</td>\n",
       "      <td>17726</td>\n",
       "      <td>18394</td>\n",
       "      <td>-0.02</td>\n",
       "      <td>-9</td>\n",
       "      <td>668</td>\n",
       "    </tr>\n",
       "    <tr>\n",
       "      <th>2</th>\n",
       "      <td>Arizona</td>\n",
       "      <td>0.29</td>\n",
       "      <td>577</td>\n",
       "      <td>572</td>\n",
       "      <td>1149</td>\n",
       "      <td>0.31</td>\n",
       "      <td>569</td>\n",
       "      <td>565</td>\n",
       "      <td>1134</td>\n",
       "      <td>AZ</td>\n",
       "      <td>8255</td>\n",
       "      <td>8625</td>\n",
       "      <td>0.02</td>\n",
       "      <td>-15</td>\n",
       "      <td>370</td>\n",
       "    </tr>\n",
       "    <tr>\n",
       "      <th>3</th>\n",
       "      <td>Arkansas</td>\n",
       "      <td>0.05</td>\n",
       "      <td>592</td>\n",
       "      <td>576</td>\n",
       "      <td>1168</td>\n",
       "      <td>0.06</td>\n",
       "      <td>582</td>\n",
       "      <td>559</td>\n",
       "      <td>1141</td>\n",
       "      <td>AR</td>\n",
       "      <td>10139</td>\n",
       "      <td>10388</td>\n",
       "      <td>0.01</td>\n",
       "      <td>-27</td>\n",
       "      <td>249</td>\n",
       "    </tr>\n",
       "    <tr>\n",
       "      <th>4</th>\n",
       "      <td>California</td>\n",
       "      <td>0.60</td>\n",
       "      <td>540</td>\n",
       "      <td>536</td>\n",
       "      <td>1076</td>\n",
       "      <td>0.63</td>\n",
       "      <td>534</td>\n",
       "      <td>531</td>\n",
       "      <td>1065</td>\n",
       "      <td>CA</td>\n",
       "      <td>12143</td>\n",
       "      <td>14035</td>\n",
       "      <td>0.03</td>\n",
       "      <td>-11</td>\n",
       "      <td>1892</td>\n",
       "    </tr>\n",
       "  </tbody>\n",
       "</table>\n",
       "</div>"
      ],
      "text/plain": [
       "        state  sat_18_participation  sat_18_ebrw  sat_18_math  sat_18_total  \\\n",
       "0     Alabama                  0.06          595          571          1166   \n",
       "1      Alaska                  0.43          562          544          1106   \n",
       "2     Arizona                  0.29          577          572          1149   \n",
       "3    Arkansas                  0.05          592          576          1168   \n",
       "4  California                  0.60          540          536          1076   \n",
       "\n",
       "   sat_19_participation  sat_19_ebrw  sat_19_math  sat_19_total code  \\\n",
       "0                  0.07          583          560          1143   AL   \n",
       "1                  0.41          556          541          1097   AK   \n",
       "2                  0.31          569          565          1134   AZ   \n",
       "3                  0.06          582          559          1141   AR   \n",
       "4                  0.63          534          531          1065   CA   \n",
       "\n",
       "   funding_18_dollars  funding_19_dollars  dif_participation  dif_total_score  \\\n",
       "0                9696               10077               0.01              -23   \n",
       "1               17726               18394              -0.02               -9   \n",
       "2                8255                8625               0.02              -15   \n",
       "3               10139               10388               0.01              -27   \n",
       "4               12143               14035               0.03              -11   \n",
       "\n",
       "   dif_funding  \n",
       "0          381  \n",
       "1          668  \n",
       "2          370  \n",
       "3          249  \n",
       "4         1892  "
      ]
     },
     "execution_count": 40,
     "metadata": {},
     "output_type": "execute_result"
    }
   ],
   "source": [
    "# Display first 5 rows output \n",
    "\n",
    "sat_merged.head()"
   ]
  },
  {
   "cell_type": "code",
   "execution_count": 41,
   "metadata": {},
   "outputs": [],
   "source": [
    "sat_merged.to_csv('..\\data\\sat_merged.csv')"
   ]
  },
  {
   "cell_type": "markdown",
   "metadata": {},
   "source": [
    "### Data Dictionary\n",
    "\n",
    "Now that we've fixed our data, and given it appropriate names, let's create a [data dictionary](http://library.ucmerced.edu/node/10249). \n",
    "\n",
    "A data dictionary provides a quick overview of features/variables/columns, alongside data types and descriptions. The more descriptive you can be, the more useful this document is.\n",
    "\n",
    "Example of a Fictional Data Dictionary Entry: \n",
    "\n",
    "|Feature|Type|Dataset|Description|\n",
    "|---|---|---|---|\n",
    "|**county_pop**|*integer*|2010 census|The population of the county (units in thousands, where 2.5 represents 2500 people).| \n",
    "|**per_poverty**|*float*|2010 census|The percent of the county over the age of 18 living below the 200% of official US poverty rate (units percent to two decimal places 98.10 means 98.1%)|\n",
    "\n",
    "[Here's a quick link to a short guide for formatting markdown in Jupyter notebooks](https://jupyter-notebook.readthedocs.io/en/stable/examples/Notebook/Working%20With%20Markdown%20Cells.html).\n",
    "\n",
    "Provided is the skeleton for formatting a markdown table, with columns headers that will help you create a data dictionary to quickly summarize your data, as well as some examples. **This would be a great thing to copy and paste into your custom README for this project.**\n",
    "\n",
    "*Note*: if you are unsure of what a feature is, check the source of the data! This can be found in the README."
   ]
  },
  {
   "cell_type": "markdown",
   "metadata": {},
   "source": [
    "|Feature|Type|Dataset|Description|\n",
    "|---|---|---|---|\n",
    "|state|object|sat_merged.csv|Name of State|\n",
    "|sat_18_participation|float64|sat_merged.csv|2018 SAT Percent of Participation by state| \n",
    "|sat_18_ebrw|int64|sat_merged.csv|2018 SAT Reading & Writing Mean Score by state| \n",
    "|sat_18_math|int64|sat_merged.csv|2018 SAT Math Mean Score by state| \n",
    "|sat_18_total|int64|sat_merged.csv|2018 SAT Total Mean Score by state|\n",
    "|sat_19_participation|float64|sat_merged.csv|2019 SAT Percent of Participation by state| \n",
    "|sat_19_ebrw|int64|sat_merged.csv|2019 SAT Reading & Writing Mean Score by state| \n",
    "|sat_19_math|int64|sat_merged.csv|2019 SAT Math Mean Score by state| \n",
    "|sat_19_total|int64|sat_merged.csv|2019 SAT Total Mean Score by state|\n",
    "|code|object|sat_merged.csv|State Code| \n",
    "|funding_18_dollars|int64|sat_merged.csv|Total Average Spent per Student (USD) in 2018| \n",
    "|funding_19_dollars|int64|sat_merged.csv|Total Average Spent per Student (USD) in 2019| \n",
    "|dif_participation|float64|sat_merged.csv|SAT Percent of Participation change year-on-year by state| \n",
    "|dif_total_score|int64|sat_merged.csv|SAT Total Mean Score change year-on-year by state|\n",
    "|dif_funding|int64|sat_merged.csv|Total Average Spent per Student (USD) change year-on-year by state| "
   ]
  },
  {
   "cell_type": "markdown",
   "metadata": {},
   "source": [
    "## Exploratory Data Analysis\n",
    "\n",
    "Complete the following steps to explore your data. You are welcome to do more EDA than the steps outlined here as you feel necessary:\n",
    "1. Summary Statistics.\n",
    "2. Use a **dictionary comprehension** to apply the standard deviation function you create in part 1 to each numeric column in the dataframe.  **No loops**.\n",
    "    - Assign the output to variable `sd` as a dictionary where: \n",
    "        - Each column name is now a key \n",
    "        - That standard deviation of the column is the value \n",
    "        - *Example Output :* `{'ACT_Math': 120, 'ACT_Reading': 120, ...}`\n",
    "3. Investigate trends in the data.\n",
    "    - Using sorting and/or masking (along with the `.head()` method to avoid printing our entire dataframe), consider questions relevant to your problem statement. Some examples are provided below (but feel free to change these questions for your specific problem):\n",
    "        - Which states have the highest and lowest participation rates for the 2017, 2019, or 2019 SAT and ACT?\n",
    "        - Which states have the highest and lowest mean total/composite scores for the 2017, 2019, or 2019 SAT and ACT?\n",
    "        - Do any states with 100% participation on a given test have a rate change year-to-year?\n",
    "        - Do any states show have >50% participation on *both* tests each year?\n",
    "        - Which colleges have the highest median SAT and ACT scores for admittance?\n",
    "        - Which California school districts have the highest and lowest mean test scores?\n",
    "    - **You should comment on your findings at each step in a markdown cell below your code block**. Make sure you include at least one example of sorting your dataframe by a column, and one example of using boolean filtering (i.e., masking) to select a subset of the dataframe."
   ]
  },
  {
   "cell_type": "code",
   "execution_count": 42,
   "metadata": {},
   "outputs": [
    {
     "data": {
      "text/html": [
       "<div>\n",
       "<style scoped>\n",
       "    .dataframe tbody tr th:only-of-type {\n",
       "        vertical-align: middle;\n",
       "    }\n",
       "\n",
       "    .dataframe tbody tr th {\n",
       "        vertical-align: top;\n",
       "    }\n",
       "\n",
       "    .dataframe thead th {\n",
       "        text-align: right;\n",
       "    }\n",
       "</style>\n",
       "<table border=\"1\" class=\"dataframe\">\n",
       "  <thead>\n",
       "    <tr style=\"text-align: right;\">\n",
       "      <th></th>\n",
       "      <th>count</th>\n",
       "      <th>mean</th>\n",
       "      <th>std</th>\n",
       "      <th>min</th>\n",
       "      <th>25%</th>\n",
       "      <th>50%</th>\n",
       "      <th>75%</th>\n",
       "      <th>max</th>\n",
       "    </tr>\n",
       "  </thead>\n",
       "  <tbody>\n",
       "    <tr>\n",
       "      <th>sat_18_participation</th>\n",
       "      <td>51.0</td>\n",
       "      <td>0.457451</td>\n",
       "      <td>0.373143</td>\n",
       "      <td>0.02</td>\n",
       "      <td>0.045</td>\n",
       "      <td>0.52</td>\n",
       "      <td>0.775</td>\n",
       "      <td>1.00</td>\n",
       "    </tr>\n",
       "    <tr>\n",
       "      <th>sat_18_ebrw</th>\n",
       "      <td>51.0</td>\n",
       "      <td>563.686275</td>\n",
       "      <td>47.502627</td>\n",
       "      <td>480.00</td>\n",
       "      <td>534.500</td>\n",
       "      <td>552.00</td>\n",
       "      <td>610.500</td>\n",
       "      <td>643.00</td>\n",
       "    </tr>\n",
       "    <tr>\n",
       "      <th>sat_18_math</th>\n",
       "      <td>51.0</td>\n",
       "      <td>556.235294</td>\n",
       "      <td>47.772623</td>\n",
       "      <td>480.00</td>\n",
       "      <td>522.500</td>\n",
       "      <td>544.00</td>\n",
       "      <td>593.500</td>\n",
       "      <td>655.00</td>\n",
       "    </tr>\n",
       "    <tr>\n",
       "      <th>sat_18_total</th>\n",
       "      <td>51.0</td>\n",
       "      <td>1119.921569</td>\n",
       "      <td>94.189138</td>\n",
       "      <td>977.00</td>\n",
       "      <td>1058.000</td>\n",
       "      <td>1097.00</td>\n",
       "      <td>1204.000</td>\n",
       "      <td>1298.00</td>\n",
       "    </tr>\n",
       "    <tr>\n",
       "      <th>sat_19_participation</th>\n",
       "      <td>51.0</td>\n",
       "      <td>0.490588</td>\n",
       "      <td>0.387476</td>\n",
       "      <td>0.02</td>\n",
       "      <td>0.055</td>\n",
       "      <td>0.54</td>\n",
       "      <td>0.820</td>\n",
       "      <td>1.00</td>\n",
       "    </tr>\n",
       "    <tr>\n",
       "      <th>sat_19_ebrw</th>\n",
       "      <td>51.0</td>\n",
       "      <td>560.803922</td>\n",
       "      <td>46.248035</td>\n",
       "      <td>483.00</td>\n",
       "      <td>527.500</td>\n",
       "      <td>550.00</td>\n",
       "      <td>612.000</td>\n",
       "      <td>636.00</td>\n",
       "    </tr>\n",
       "    <tr>\n",
       "      <th>sat_19_math</th>\n",
       "      <td>51.0</td>\n",
       "      <td>552.196078</td>\n",
       "      <td>51.290553</td>\n",
       "      <td>460.00</td>\n",
       "      <td>511.500</td>\n",
       "      <td>546.00</td>\n",
       "      <td>599.000</td>\n",
       "      <td>648.00</td>\n",
       "    </tr>\n",
       "    <tr>\n",
       "      <th>sat_19_total</th>\n",
       "      <td>51.0</td>\n",
       "      <td>1113.000000</td>\n",
       "      <td>97.198148</td>\n",
       "      <td>943.00</td>\n",
       "      <td>1037.500</td>\n",
       "      <td>1098.00</td>\n",
       "      <td>1210.500</td>\n",
       "      <td>1284.00</td>\n",
       "    </tr>\n",
       "    <tr>\n",
       "      <th>funding_18_dollars</th>\n",
       "      <td>51.0</td>\n",
       "      <td>12907.490196</td>\n",
       "      <td>3835.955518</td>\n",
       "      <td>7628.00</td>\n",
       "      <td>10106.000</td>\n",
       "      <td>11920.00</td>\n",
       "      <td>15440.500</td>\n",
       "      <td>24048.00</td>\n",
       "    </tr>\n",
       "    <tr>\n",
       "      <th>funding_19_dollars</th>\n",
       "      <td>51.0</td>\n",
       "      <td>13381.176471</td>\n",
       "      <td>3933.785626</td>\n",
       "      <td>7985.00</td>\n",
       "      <td>10282.500</td>\n",
       "      <td>12450.00</td>\n",
       "      <td>16179.500</td>\n",
       "      <td>25139.00</td>\n",
       "    </tr>\n",
       "    <tr>\n",
       "      <th>dif_participation</th>\n",
       "      <td>51.0</td>\n",
       "      <td>0.033137</td>\n",
       "      <td>0.117499</td>\n",
       "      <td>-0.03</td>\n",
       "      <td>0.000</td>\n",
       "      <td>0.00</td>\n",
       "      <td>0.020</td>\n",
       "      <td>0.71</td>\n",
       "    </tr>\n",
       "    <tr>\n",
       "      <th>dif_total_score</th>\n",
       "      <td>51.0</td>\n",
       "      <td>-6.921569</td>\n",
       "      <td>41.614826</td>\n",
       "      <td>-100.00</td>\n",
       "      <td>-19.500</td>\n",
       "      <td>-9.00</td>\n",
       "      <td>-1.500</td>\n",
       "      <td>219.00</td>\n",
       "    </tr>\n",
       "    <tr>\n",
       "      <th>dif_funding</th>\n",
       "      <td>51.0</td>\n",
       "      <td>473.686275</td>\n",
       "      <td>366.513110</td>\n",
       "      <td>-353.00</td>\n",
       "      <td>278.500</td>\n",
       "      <td>392.00</td>\n",
       "      <td>638.000</td>\n",
       "      <td>1892.00</td>\n",
       "    </tr>\n",
       "  </tbody>\n",
       "</table>\n",
       "</div>"
      ],
      "text/plain": [
       "                      count          mean          std      min        25%  \\\n",
       "sat_18_participation   51.0      0.457451     0.373143     0.02      0.045   \n",
       "sat_18_ebrw            51.0    563.686275    47.502627   480.00    534.500   \n",
       "sat_18_math            51.0    556.235294    47.772623   480.00    522.500   \n",
       "sat_18_total           51.0   1119.921569    94.189138   977.00   1058.000   \n",
       "sat_19_participation   51.0      0.490588     0.387476     0.02      0.055   \n",
       "sat_19_ebrw            51.0    560.803922    46.248035   483.00    527.500   \n",
       "sat_19_math            51.0    552.196078    51.290553   460.00    511.500   \n",
       "sat_19_total           51.0   1113.000000    97.198148   943.00   1037.500   \n",
       "funding_18_dollars     51.0  12907.490196  3835.955518  7628.00  10106.000   \n",
       "funding_19_dollars     51.0  13381.176471  3933.785626  7985.00  10282.500   \n",
       "dif_participation      51.0      0.033137     0.117499    -0.03      0.000   \n",
       "dif_total_score        51.0     -6.921569    41.614826  -100.00    -19.500   \n",
       "dif_funding            51.0    473.686275   366.513110  -353.00    278.500   \n",
       "\n",
       "                           50%        75%       max  \n",
       "sat_18_participation      0.52      0.775      1.00  \n",
       "sat_18_ebrw             552.00    610.500    643.00  \n",
       "sat_18_math             544.00    593.500    655.00  \n",
       "sat_18_total           1097.00   1204.000   1298.00  \n",
       "sat_19_participation      0.54      0.820      1.00  \n",
       "sat_19_ebrw             550.00    612.000    636.00  \n",
       "sat_19_math             546.00    599.000    648.00  \n",
       "sat_19_total           1098.00   1210.500   1284.00  \n",
       "funding_18_dollars    11920.00  15440.500  24048.00  \n",
       "funding_19_dollars    12450.00  16179.500  25139.00  \n",
       "dif_participation         0.00      0.020      0.71  \n",
       "dif_total_score          -9.00     -1.500    219.00  \n",
       "dif_funding             392.00    638.000   1892.00  "
      ]
     },
     "execution_count": 42,
     "metadata": {},
     "output_type": "execute_result"
    }
   ],
   "source": [
    "#Code:\n",
    "sat_merged.describe().T"
   ]
  },
  {
   "cell_type": "code",
   "execution_count": 43,
   "metadata": {},
   "outputs": [
    {
     "data": {
      "text/plain": [
       "{'sat_18_participation': 0.37,\n",
       " 'sat_18_ebrw': 47.03,\n",
       " 'sat_18_math': 47.3,\n",
       " 'sat_18_total': 93.26,\n",
       " 'sat_19_participation': 0.38,\n",
       " 'sat_19_ebrw': 45.79,\n",
       " 'sat_19_math': 50.79,\n",
       " 'sat_19_total': 96.24,\n",
       " 'funding_18_dollars': 3798.16,\n",
       " 'funding_19_dollars': 3895.03,\n",
       " 'dif_participation': 0.12,\n",
       " 'dif_total_score': 41.2,\n",
       " 'dif_funding': 362.9}"
      ]
     },
     "execution_count": 43,
     "metadata": {},
     "output_type": "execute_result"
    }
   ],
   "source": [
    "# Compute the Standard Deviation for  all numeric features using the function create in Part 1.\n",
    "\n",
    "sd = {column : round(standard_dev(sat_merged[column]), 2) for column in sat_merged if column != 'state' if column != 'code'}\n",
    "sd"
   ]
  },
  {
   "cell_type": "markdown",
   "metadata": {},
   "source": [
    "- There is a slight difference between manually calculated and using python function."
   ]
  },
  {
   "cell_type": "code",
   "execution_count": 44,
   "metadata": {},
   "outputs": [],
   "source": [
    "# Masking for 2018 & 2019 Participation Rate\n",
    "\n",
    "mask_part_18 = ['state', 'sat_18_participation']\n",
    "mask_part_19 = ['state', 'sat_19_participation']"
   ]
  },
  {
   "cell_type": "code",
   "execution_count": 45,
   "metadata": {},
   "outputs": [
    {
     "data": {
      "text/html": [
       "<div>\n",
       "<style scoped>\n",
       "    .dataframe tbody tr th:only-of-type {\n",
       "        vertical-align: middle;\n",
       "    }\n",
       "\n",
       "    .dataframe tbody tr th {\n",
       "        vertical-align: top;\n",
       "    }\n",
       "\n",
       "    .dataframe thead th {\n",
       "        text-align: right;\n",
       "    }\n",
       "</style>\n",
       "<table border=\"1\" class=\"dataframe\">\n",
       "  <thead>\n",
       "    <tr style=\"text-align: right;\">\n",
       "      <th></th>\n",
       "      <th>state</th>\n",
       "      <th>sat_18_participation</th>\n",
       "    </tr>\n",
       "  </thead>\n",
       "  <tbody>\n",
       "    <tr>\n",
       "      <th>5</th>\n",
       "      <td>Colorado</td>\n",
       "      <td>1.0</td>\n",
       "    </tr>\n",
       "    <tr>\n",
       "      <th>6</th>\n",
       "      <td>Connecticut</td>\n",
       "      <td>1.0</td>\n",
       "    </tr>\n",
       "    <tr>\n",
       "      <th>7</th>\n",
       "      <td>Delaware</td>\n",
       "      <td>1.0</td>\n",
       "    </tr>\n",
       "    <tr>\n",
       "      <th>22</th>\n",
       "      <td>Michigan</td>\n",
       "      <td>1.0</td>\n",
       "    </tr>\n",
       "    <tr>\n",
       "      <th>12</th>\n",
       "      <td>Idaho</td>\n",
       "      <td>1.0</td>\n",
       "    </tr>\n",
       "  </tbody>\n",
       "</table>\n",
       "</div>"
      ],
      "text/plain": [
       "          state  sat_18_participation\n",
       "5      Colorado                   1.0\n",
       "6   Connecticut                   1.0\n",
       "7      Delaware                   1.0\n",
       "22     Michigan                   1.0\n",
       "12        Idaho                   1.0"
      ]
     },
     "execution_count": 45,
     "metadata": {},
     "output_type": "execute_result"
    }
   ],
   "source": [
    "# SAT 2018 Top 5 Highest Participation Rate\n",
    "\n",
    "sat_merged[mask_part_18].sort_values(by = 'sat_18_participation', ascending = False).head()"
   ]
  },
  {
   "cell_type": "code",
   "execution_count": 46,
   "metadata": {},
   "outputs": [
    {
     "data": {
      "text/html": [
       "<div>\n",
       "<style scoped>\n",
       "    .dataframe tbody tr th:only-of-type {\n",
       "        vertical-align: middle;\n",
       "    }\n",
       "\n",
       "    .dataframe tbody tr th {\n",
       "        vertical-align: top;\n",
       "    }\n",
       "\n",
       "    .dataframe thead th {\n",
       "        text-align: right;\n",
       "    }\n",
       "</style>\n",
       "<table border=\"1\" class=\"dataframe\">\n",
       "  <thead>\n",
       "    <tr style=\"text-align: right;\">\n",
       "      <th></th>\n",
       "      <th>state</th>\n",
       "      <th>sat_18_participation</th>\n",
       "    </tr>\n",
       "  </thead>\n",
       "  <tbody>\n",
       "    <tr>\n",
       "      <th>34</th>\n",
       "      <td>North Dakota</td>\n",
       "      <td>0.02</td>\n",
       "    </tr>\n",
       "    <tr>\n",
       "      <th>50</th>\n",
       "      <td>Wyoming</td>\n",
       "      <td>0.03</td>\n",
       "    </tr>\n",
       "    <tr>\n",
       "      <th>41</th>\n",
       "      <td>South Dakota</td>\n",
       "      <td>0.03</td>\n",
       "    </tr>\n",
       "    <tr>\n",
       "      <th>27</th>\n",
       "      <td>Nebraska</td>\n",
       "      <td>0.03</td>\n",
       "    </tr>\n",
       "    <tr>\n",
       "      <th>49</th>\n",
       "      <td>Wisconsin</td>\n",
       "      <td>0.03</td>\n",
       "    </tr>\n",
       "  </tbody>\n",
       "</table>\n",
       "</div>"
      ],
      "text/plain": [
       "           state  sat_18_participation\n",
       "34  North Dakota                  0.02\n",
       "50       Wyoming                  0.03\n",
       "41  South Dakota                  0.03\n",
       "27      Nebraska                  0.03\n",
       "49     Wisconsin                  0.03"
      ]
     },
     "execution_count": 46,
     "metadata": {},
     "output_type": "execute_result"
    }
   ],
   "source": [
    "# SAT 2018 Top 5 Lowest Participation Rate\n",
    "sat_merged[mask_part_18].sort_values(by = 'sat_18_participation', ascending = True).head()"
   ]
  },
  {
   "cell_type": "code",
   "execution_count": 47,
   "metadata": {},
   "outputs": [
    {
     "data": {
      "text/html": [
       "<div>\n",
       "<style scoped>\n",
       "    .dataframe tbody tr th:only-of-type {\n",
       "        vertical-align: middle;\n",
       "    }\n",
       "\n",
       "    .dataframe tbody tr th {\n",
       "        vertical-align: top;\n",
       "    }\n",
       "\n",
       "    .dataframe thead th {\n",
       "        text-align: right;\n",
       "    }\n",
       "</style>\n",
       "<table border=\"1\" class=\"dataframe\">\n",
       "  <thead>\n",
       "    <tr style=\"text-align: right;\">\n",
       "      <th></th>\n",
       "      <th>state</th>\n",
       "      <th>sat_19_participation</th>\n",
       "    </tr>\n",
       "  </thead>\n",
       "  <tbody>\n",
       "    <tr>\n",
       "      <th>39</th>\n",
       "      <td>Rhode Island</td>\n",
       "      <td>1.0</td>\n",
       "    </tr>\n",
       "    <tr>\n",
       "      <th>13</th>\n",
       "      <td>Illinois</td>\n",
       "      <td>1.0</td>\n",
       "    </tr>\n",
       "    <tr>\n",
       "      <th>22</th>\n",
       "      <td>Michigan</td>\n",
       "      <td>1.0</td>\n",
       "    </tr>\n",
       "    <tr>\n",
       "      <th>5</th>\n",
       "      <td>Colorado</td>\n",
       "      <td>1.0</td>\n",
       "    </tr>\n",
       "    <tr>\n",
       "      <th>6</th>\n",
       "      <td>Connecticut</td>\n",
       "      <td>1.0</td>\n",
       "    </tr>\n",
       "  </tbody>\n",
       "</table>\n",
       "</div>"
      ],
      "text/plain": [
       "           state  sat_19_participation\n",
       "39  Rhode Island                   1.0\n",
       "13      Illinois                   1.0\n",
       "22      Michigan                   1.0\n",
       "5       Colorado                   1.0\n",
       "6    Connecticut                   1.0"
      ]
     },
     "execution_count": 47,
     "metadata": {},
     "output_type": "execute_result"
    }
   ],
   "source": [
    "# SAT 2019 Top 5 Highest Participation Rate\n",
    "\n",
    "sat_merged[mask_part_19].sort_values(by = 'sat_19_participation', ascending = False).head()"
   ]
  },
  {
   "cell_type": "code",
   "execution_count": 48,
   "metadata": {},
   "outputs": [
    {
     "data": {
      "text/html": [
       "<div>\n",
       "<style scoped>\n",
       "    .dataframe tbody tr th:only-of-type {\n",
       "        vertical-align: middle;\n",
       "    }\n",
       "\n",
       "    .dataframe tbody tr th {\n",
       "        vertical-align: top;\n",
       "    }\n",
       "\n",
       "    .dataframe thead th {\n",
       "        text-align: right;\n",
       "    }\n",
       "</style>\n",
       "<table border=\"1\" class=\"dataframe\">\n",
       "  <thead>\n",
       "    <tr style=\"text-align: right;\">\n",
       "      <th></th>\n",
       "      <th>state</th>\n",
       "      <th>sat_19_participation</th>\n",
       "    </tr>\n",
       "  </thead>\n",
       "  <tbody>\n",
       "    <tr>\n",
       "      <th>34</th>\n",
       "      <td>North Dakota</td>\n",
       "      <td>0.02</td>\n",
       "    </tr>\n",
       "    <tr>\n",
       "      <th>50</th>\n",
       "      <td>Wyoming</td>\n",
       "      <td>0.03</td>\n",
       "    </tr>\n",
       "    <tr>\n",
       "      <th>41</th>\n",
       "      <td>South Dakota</td>\n",
       "      <td>0.03</td>\n",
       "    </tr>\n",
       "    <tr>\n",
       "      <th>27</th>\n",
       "      <td>Nebraska</td>\n",
       "      <td>0.03</td>\n",
       "    </tr>\n",
       "    <tr>\n",
       "      <th>49</th>\n",
       "      <td>Wisconsin</td>\n",
       "      <td>0.03</td>\n",
       "    </tr>\n",
       "  </tbody>\n",
       "</table>\n",
       "</div>"
      ],
      "text/plain": [
       "           state  sat_19_participation\n",
       "34  North Dakota                  0.02\n",
       "50       Wyoming                  0.03\n",
       "41  South Dakota                  0.03\n",
       "27      Nebraska                  0.03\n",
       "49     Wisconsin                  0.03"
      ]
     },
     "execution_count": 48,
     "metadata": {},
     "output_type": "execute_result"
    }
   ],
   "source": [
    "# SAT 2019 Top 5 Lowest Participation Rate\n",
    "\n",
    "sat_merged[mask_part_19].sort_values(by = 'sat_19_participation', ascending = True).head()"
   ]
  },
  {
   "cell_type": "markdown",
   "metadata": {},
   "source": [
    "#### SAT Participation Rate Summary\n",
    "\n",
    "1. SAT 2018 Top 5 Highest Participation Rate   : Colorado, Connecticut, Delaware, Michigan, Idaho\n",
    "2. SAT 2018 Top 5 Lowest Participation Rate    : North Dakota, Wyoming, South Dakota, Nebraska, Wisconsin\n",
    "3. SAT 2019 Top 5 Highest Participation Rate   : Rhode Island, Illinois, Michigan, Colorado, Connecticut\n",
    "4. SAT 2019 Top 5 Lowest Participation Rate    : North Dakota, Wyoming, South Dakota, Nebraska, Wisconsin\n"
   ]
  },
  {
   "cell_type": "code",
   "execution_count": 49,
   "metadata": {},
   "outputs": [],
   "source": [
    "# Masking for 2018 & 2019 Total Score\n",
    "\n",
    "mask_score_18 = ['state', 'sat_18_total']\n",
    "mask_score_19 = ['state', 'sat_19_total']"
   ]
  },
  {
   "cell_type": "code",
   "execution_count": 50,
   "metadata": {},
   "outputs": [
    {
     "data": {
      "text/html": [
       "<div>\n",
       "<style scoped>\n",
       "    .dataframe tbody tr th:only-of-type {\n",
       "        vertical-align: middle;\n",
       "    }\n",
       "\n",
       "    .dataframe tbody tr th {\n",
       "        vertical-align: top;\n",
       "    }\n",
       "\n",
       "    .dataframe thead th {\n",
       "        text-align: right;\n",
       "    }\n",
       "</style>\n",
       "<table border=\"1\" class=\"dataframe\">\n",
       "  <thead>\n",
       "    <tr style=\"text-align: right;\">\n",
       "      <th></th>\n",
       "      <th>state</th>\n",
       "      <th>sat_18_total</th>\n",
       "    </tr>\n",
       "  </thead>\n",
       "  <tbody>\n",
       "    <tr>\n",
       "      <th>23</th>\n",
       "      <td>Minnesota</td>\n",
       "      <td>1298</td>\n",
       "    </tr>\n",
       "    <tr>\n",
       "      <th>49</th>\n",
       "      <td>Wisconsin</td>\n",
       "      <td>1294</td>\n",
       "    </tr>\n",
       "    <tr>\n",
       "      <th>34</th>\n",
       "      <td>North Dakota</td>\n",
       "      <td>1283</td>\n",
       "    </tr>\n",
       "    <tr>\n",
       "      <th>15</th>\n",
       "      <td>Iowa</td>\n",
       "      <td>1265</td>\n",
       "    </tr>\n",
       "    <tr>\n",
       "      <th>16</th>\n",
       "      <td>Kansas</td>\n",
       "      <td>1264</td>\n",
       "    </tr>\n",
       "  </tbody>\n",
       "</table>\n",
       "</div>"
      ],
      "text/plain": [
       "           state  sat_18_total\n",
       "23     Minnesota          1298\n",
       "49     Wisconsin          1294\n",
       "34  North Dakota          1283\n",
       "15          Iowa          1265\n",
       "16        Kansas          1264"
      ]
     },
     "execution_count": 50,
     "metadata": {},
     "output_type": "execute_result"
    }
   ],
   "source": [
    "# SAT 2018 Top 5 Highest Mean Total Score\n",
    "\n",
    "sat_merged[mask_score_18].sort_values(by = 'sat_18_total', ascending = False).head()"
   ]
  },
  {
   "cell_type": "code",
   "execution_count": 51,
   "metadata": {},
   "outputs": [
    {
     "data": {
      "text/html": [
       "<div>\n",
       "<style scoped>\n",
       "    .dataframe tbody tr th:only-of-type {\n",
       "        vertical-align: middle;\n",
       "    }\n",
       "\n",
       "    .dataframe tbody tr th {\n",
       "        vertical-align: top;\n",
       "    }\n",
       "\n",
       "    .dataframe thead th {\n",
       "        text-align: right;\n",
       "    }\n",
       "</style>\n",
       "<table border=\"1\" class=\"dataframe\">\n",
       "  <thead>\n",
       "    <tr style=\"text-align: right;\">\n",
       "      <th></th>\n",
       "      <th>state</th>\n",
       "      <th>sat_18_total</th>\n",
       "    </tr>\n",
       "  </thead>\n",
       "  <tbody>\n",
       "    <tr>\n",
       "      <th>8</th>\n",
       "      <td>District of Columbia</td>\n",
       "      <td>977</td>\n",
       "    </tr>\n",
       "    <tr>\n",
       "      <th>7</th>\n",
       "      <td>Delaware</td>\n",
       "      <td>997</td>\n",
       "    </tr>\n",
       "    <tr>\n",
       "      <th>48</th>\n",
       "      <td>West Virginia</td>\n",
       "      <td>999</td>\n",
       "    </tr>\n",
       "    <tr>\n",
       "      <th>12</th>\n",
       "      <td>Idaho</td>\n",
       "      <td>1001</td>\n",
       "    </tr>\n",
       "    <tr>\n",
       "      <th>44</th>\n",
       "      <td>Utah</td>\n",
       "      <td>1010</td>\n",
       "    </tr>\n",
       "  </tbody>\n",
       "</table>\n",
       "</div>"
      ],
      "text/plain": [
       "                   state  sat_18_total\n",
       "8   District of Columbia           977\n",
       "7               Delaware           997\n",
       "48         West Virginia           999\n",
       "12                 Idaho          1001\n",
       "44                  Utah          1010"
      ]
     },
     "execution_count": 51,
     "metadata": {},
     "output_type": "execute_result"
    }
   ],
   "source": [
    "# SAT 2018 Top 5 Lowest Mean Total Score\n",
    "\n",
    "sat_merged[mask_score_18].sort_values(by = 'sat_18_total', ascending = True).head()"
   ]
  },
  {
   "cell_type": "code",
   "execution_count": 52,
   "metadata": {},
   "outputs": [
    {
     "data": {
      "text/html": [
       "<div>\n",
       "<style scoped>\n",
       "    .dataframe tbody tr th:only-of-type {\n",
       "        vertical-align: middle;\n",
       "    }\n",
       "\n",
       "    .dataframe tbody tr th {\n",
       "        vertical-align: top;\n",
       "    }\n",
       "\n",
       "    .dataframe thead th {\n",
       "        text-align: right;\n",
       "    }\n",
       "</style>\n",
       "<table border=\"1\" class=\"dataframe\">\n",
       "  <thead>\n",
       "    <tr style=\"text-align: right;\">\n",
       "      <th></th>\n",
       "      <th>state</th>\n",
       "      <th>sat_19_total</th>\n",
       "    </tr>\n",
       "  </thead>\n",
       "  <tbody>\n",
       "    <tr>\n",
       "      <th>23</th>\n",
       "      <td>Minnesota</td>\n",
       "      <td>1284</td>\n",
       "    </tr>\n",
       "    <tr>\n",
       "      <th>49</th>\n",
       "      <td>Wisconsin</td>\n",
       "      <td>1283</td>\n",
       "    </tr>\n",
       "    <tr>\n",
       "      <th>41</th>\n",
       "      <td>South Dakota</td>\n",
       "      <td>1268</td>\n",
       "    </tr>\n",
       "    <tr>\n",
       "      <th>34</th>\n",
       "      <td>North Dakota</td>\n",
       "      <td>1263</td>\n",
       "    </tr>\n",
       "    <tr>\n",
       "      <th>27</th>\n",
       "      <td>Nebraska</td>\n",
       "      <td>1259</td>\n",
       "    </tr>\n",
       "  </tbody>\n",
       "</table>\n",
       "</div>"
      ],
      "text/plain": [
       "           state  sat_19_total\n",
       "23     Minnesota          1284\n",
       "49     Wisconsin          1283\n",
       "41  South Dakota          1268\n",
       "34  North Dakota          1263\n",
       "27      Nebraska          1259"
      ]
     },
     "execution_count": 52,
     "metadata": {},
     "output_type": "execute_result"
    }
   ],
   "source": [
    "# SAT 2019 Top 5 Highest Mean Total Score\n",
    "\n",
    "sat_merged[mask_score_19].sort_values(by = 'sat_19_total', ascending = False).head()"
   ]
  },
  {
   "cell_type": "code",
   "execution_count": 53,
   "metadata": {},
   "outputs": [
    {
     "data": {
      "text/html": [
       "<div>\n",
       "<style scoped>\n",
       "    .dataframe tbody tr th:only-of-type {\n",
       "        vertical-align: middle;\n",
       "    }\n",
       "\n",
       "    .dataframe tbody tr th {\n",
       "        vertical-align: top;\n",
       "    }\n",
       "\n",
       "    .dataframe thead th {\n",
       "        text-align: right;\n",
       "    }\n",
       "</style>\n",
       "<table border=\"1\" class=\"dataframe\">\n",
       "  <thead>\n",
       "    <tr style=\"text-align: right;\">\n",
       "      <th></th>\n",
       "      <th>state</th>\n",
       "      <th>sat_19_total</th>\n",
       "    </tr>\n",
       "  </thead>\n",
       "  <tbody>\n",
       "    <tr>\n",
       "      <th>48</th>\n",
       "      <td>West Virginia</td>\n",
       "      <td>943</td>\n",
       "    </tr>\n",
       "    <tr>\n",
       "      <th>35</th>\n",
       "      <td>Oklahoma</td>\n",
       "      <td>962</td>\n",
       "    </tr>\n",
       "    <tr>\n",
       "      <th>8</th>\n",
       "      <td>District of Columbia</td>\n",
       "      <td>975</td>\n",
       "    </tr>\n",
       "    <tr>\n",
       "      <th>7</th>\n",
       "      <td>Delaware</td>\n",
       "      <td>985</td>\n",
       "    </tr>\n",
       "    <tr>\n",
       "      <th>12</th>\n",
       "      <td>Idaho</td>\n",
       "      <td>993</td>\n",
       "    </tr>\n",
       "  </tbody>\n",
       "</table>\n",
       "</div>"
      ],
      "text/plain": [
       "                   state  sat_19_total\n",
       "48         West Virginia           943\n",
       "35              Oklahoma           962\n",
       "8   District of Columbia           975\n",
       "7               Delaware           985\n",
       "12                 Idaho           993"
      ]
     },
     "execution_count": 53,
     "metadata": {},
     "output_type": "execute_result"
    }
   ],
   "source": [
    "# SAT 2019 Top 5 Lowest Mean Total Score\n",
    "\n",
    "sat_merged[mask_score_19].sort_values(by = 'sat_19_total', ascending = True).head()"
   ]
  },
  {
   "cell_type": "markdown",
   "metadata": {},
   "source": [
    "#### SAT Mean Total Score Summary\n",
    "\n",
    "1. SAT 2018 Top 5 Highest Mean Total Score   : Minnesota, Wisconsin, North Dakota, Iowa, Kansas\n",
    "2. SAT 2018 Top 5 Lowest Mean Total Score    : District of Columbia, Delaware, West Virginia, Idaho, Utah\n",
    "3. SAT 2019 Top 5 Highest Mean Total Score   : Minnesota, Wisconsin, South Dakota, North Dakota, Nebraska\n",
    "4. SAT 2019 Top 5 Lowest Mean Total Score    : West Virginia, Oklahoma, District of Columbia, Delaware, Idaho"
   ]
  },
  {
   "cell_type": "code",
   "execution_count": 54,
   "metadata": {},
   "outputs": [],
   "source": [
    "# Masking for 2018 & 2019 Funding\n",
    "\n",
    "mask_fund_18 = ['state', 'funding_18_dollars']\n",
    "mask_fund_19 = ['state', 'funding_19_dollars']"
   ]
  },
  {
   "cell_type": "code",
   "execution_count": 55,
   "metadata": {},
   "outputs": [
    {
     "data": {
      "text/html": [
       "<div>\n",
       "<style scoped>\n",
       "    .dataframe tbody tr th:only-of-type {\n",
       "        vertical-align: middle;\n",
       "    }\n",
       "\n",
       "    .dataframe tbody tr th {\n",
       "        vertical-align: top;\n",
       "    }\n",
       "\n",
       "    .dataframe thead th {\n",
       "        text-align: right;\n",
       "    }\n",
       "</style>\n",
       "<table border=\"1\" class=\"dataframe\">\n",
       "  <thead>\n",
       "    <tr style=\"text-align: right;\">\n",
       "      <th></th>\n",
       "      <th>state</th>\n",
       "      <th>funding_18_dollars</th>\n",
       "    </tr>\n",
       "  </thead>\n",
       "  <tbody>\n",
       "    <tr>\n",
       "      <th>32</th>\n",
       "      <td>New York</td>\n",
       "      <td>24048</td>\n",
       "    </tr>\n",
       "    <tr>\n",
       "      <th>8</th>\n",
       "      <td>District of Columbia</td>\n",
       "      <td>22759</td>\n",
       "    </tr>\n",
       "    <tr>\n",
       "      <th>6</th>\n",
       "      <td>Connecticut</td>\n",
       "      <td>20635</td>\n",
       "    </tr>\n",
       "    <tr>\n",
       "      <th>30</th>\n",
       "      <td>New Jersey</td>\n",
       "      <td>19526</td>\n",
       "    </tr>\n",
       "    <tr>\n",
       "      <th>45</th>\n",
       "      <td>Vermont</td>\n",
       "      <td>19341</td>\n",
       "    </tr>\n",
       "  </tbody>\n",
       "</table>\n",
       "</div>"
      ],
      "text/plain": [
       "                   state  funding_18_dollars\n",
       "32              New York               24048\n",
       "8   District of Columbia               22759\n",
       "6            Connecticut               20635\n",
       "30            New Jersey               19526\n",
       "45               Vermont               19341"
      ]
     },
     "execution_count": 55,
     "metadata": {},
     "output_type": "execute_result"
    }
   ],
   "source": [
    "# 2018 Top 5 Highest Education Funding State\n",
    "\n",
    "sat_merged[mask_fund_18].sort_values(by = 'funding_18_dollars', ascending = False).head()"
   ]
  },
  {
   "cell_type": "code",
   "execution_count": 56,
   "metadata": {},
   "outputs": [
    {
     "data": {
      "text/html": [
       "<div>\n",
       "<style scoped>\n",
       "    .dataframe tbody tr th:only-of-type {\n",
       "        vertical-align: middle;\n",
       "    }\n",
       "\n",
       "    .dataframe tbody tr th {\n",
       "        vertical-align: top;\n",
       "    }\n",
       "\n",
       "    .dataframe thead th {\n",
       "        text-align: right;\n",
       "    }\n",
       "</style>\n",
       "<table border=\"1\" class=\"dataframe\">\n",
       "  <thead>\n",
       "    <tr style=\"text-align: right;\">\n",
       "      <th></th>\n",
       "      <th>state</th>\n",
       "      <th>funding_18_dollars</th>\n",
       "    </tr>\n",
       "  </thead>\n",
       "  <tbody>\n",
       "    <tr>\n",
       "      <th>44</th>\n",
       "      <td>Utah</td>\n",
       "      <td>7628</td>\n",
       "    </tr>\n",
       "    <tr>\n",
       "      <th>12</th>\n",
       "      <td>Idaho</td>\n",
       "      <td>7771</td>\n",
       "    </tr>\n",
       "    <tr>\n",
       "      <th>35</th>\n",
       "      <td>Oklahoma</td>\n",
       "      <td>8239</td>\n",
       "    </tr>\n",
       "    <tr>\n",
       "      <th>2</th>\n",
       "      <td>Arizona</td>\n",
       "      <td>8255</td>\n",
       "    </tr>\n",
       "    <tr>\n",
       "      <th>24</th>\n",
       "      <td>Mississippi</td>\n",
       "      <td>8935</td>\n",
       "    </tr>\n",
       "  </tbody>\n",
       "</table>\n",
       "</div>"
      ],
      "text/plain": [
       "          state  funding_18_dollars\n",
       "44         Utah                7628\n",
       "12        Idaho                7771\n",
       "35     Oklahoma                8239\n",
       "2       Arizona                8255\n",
       "24  Mississippi                8935"
      ]
     },
     "execution_count": 56,
     "metadata": {},
     "output_type": "execute_result"
    }
   ],
   "source": [
    "# 2018 Top 5 Lowest Education Funding State\n",
    "\n",
    "sat_merged[mask_fund_18].sort_values(by = 'funding_18_dollars', ascending = True).head()"
   ]
  },
  {
   "cell_type": "code",
   "execution_count": 57,
   "metadata": {},
   "outputs": [
    {
     "data": {
      "text/html": [
       "<div>\n",
       "<style scoped>\n",
       "    .dataframe tbody tr th:only-of-type {\n",
       "        vertical-align: middle;\n",
       "    }\n",
       "\n",
       "    .dataframe tbody tr th {\n",
       "        vertical-align: top;\n",
       "    }\n",
       "\n",
       "    .dataframe thead th {\n",
       "        text-align: right;\n",
       "    }\n",
       "</style>\n",
       "<table border=\"1\" class=\"dataframe\">\n",
       "  <thead>\n",
       "    <tr style=\"text-align: right;\">\n",
       "      <th></th>\n",
       "      <th>state</th>\n",
       "      <th>funding_19_dollars</th>\n",
       "    </tr>\n",
       "  </thead>\n",
       "  <tbody>\n",
       "    <tr>\n",
       "      <th>32</th>\n",
       "      <td>New York</td>\n",
       "      <td>25139</td>\n",
       "    </tr>\n",
       "    <tr>\n",
       "      <th>8</th>\n",
       "      <td>District of Columbia</td>\n",
       "      <td>22406</td>\n",
       "    </tr>\n",
       "    <tr>\n",
       "      <th>6</th>\n",
       "      <td>Connecticut</td>\n",
       "      <td>21310</td>\n",
       "    </tr>\n",
       "    <tr>\n",
       "      <th>30</th>\n",
       "      <td>New Jersey</td>\n",
       "      <td>20512</td>\n",
       "    </tr>\n",
       "    <tr>\n",
       "      <th>45</th>\n",
       "      <td>Vermont</td>\n",
       "      <td>20315</td>\n",
       "    </tr>\n",
       "  </tbody>\n",
       "</table>\n",
       "</div>"
      ],
      "text/plain": [
       "                   state  funding_19_dollars\n",
       "32              New York               25139\n",
       "8   District of Columbia               22406\n",
       "6            Connecticut               21310\n",
       "30            New Jersey               20512\n",
       "45               Vermont               20315"
      ]
     },
     "execution_count": 57,
     "metadata": {},
     "output_type": "execute_result"
    }
   ],
   "source": [
    "# 2019 Top 5 Highest Education Funding State\n",
    "\n",
    "sat_merged[mask_fund_19].sort_values(by = 'funding_19_dollars', ascending = False).head()"
   ]
  },
  {
   "cell_type": "code",
   "execution_count": 58,
   "metadata": {},
   "outputs": [
    {
     "data": {
      "text/html": [
       "<div>\n",
       "<style scoped>\n",
       "    .dataframe tbody tr th:only-of-type {\n",
       "        vertical-align: middle;\n",
       "    }\n",
       "\n",
       "    .dataframe tbody tr th {\n",
       "        vertical-align: top;\n",
       "    }\n",
       "\n",
       "    .dataframe thead th {\n",
       "        text-align: right;\n",
       "    }\n",
       "</style>\n",
       "<table border=\"1\" class=\"dataframe\">\n",
       "  <thead>\n",
       "    <tr style=\"text-align: right;\">\n",
       "      <th></th>\n",
       "      <th>state</th>\n",
       "      <th>funding_19_dollars</th>\n",
       "    </tr>\n",
       "  </thead>\n",
       "  <tbody>\n",
       "    <tr>\n",
       "      <th>12</th>\n",
       "      <td>Idaho</td>\n",
       "      <td>7985</td>\n",
       "    </tr>\n",
       "    <tr>\n",
       "      <th>44</th>\n",
       "      <td>Utah</td>\n",
       "      <td>8014</td>\n",
       "    </tr>\n",
       "    <tr>\n",
       "      <th>2</th>\n",
       "      <td>Arizona</td>\n",
       "      <td>8625</td>\n",
       "    </tr>\n",
       "    <tr>\n",
       "      <th>24</th>\n",
       "      <td>Mississippi</td>\n",
       "      <td>9284</td>\n",
       "    </tr>\n",
       "    <tr>\n",
       "      <th>35</th>\n",
       "      <td>Oklahoma</td>\n",
       "      <td>9323</td>\n",
       "    </tr>\n",
       "  </tbody>\n",
       "</table>\n",
       "</div>"
      ],
      "text/plain": [
       "          state  funding_19_dollars\n",
       "12        Idaho                7985\n",
       "44         Utah                8014\n",
       "2       Arizona                8625\n",
       "24  Mississippi                9284\n",
       "35     Oklahoma                9323"
      ]
     },
     "execution_count": 58,
     "metadata": {},
     "output_type": "execute_result"
    }
   ],
   "source": [
    "# 2019 Top 5 Lowest Education Funding State\n",
    "\n",
    "sat_merged[mask_fund_19].sort_values(by = 'funding_19_dollars', ascending = True).head()"
   ]
  },
  {
   "cell_type": "markdown",
   "metadata": {},
   "source": [
    "#### Education Funding Summary\n",
    "\n",
    "1. 2018 Top 5 Highest Education Funding State   : New York, District of Columbia, Connecticut, New Jersey, Vermont\n",
    "2. 2018 Top 5 Lowest Education Funding State    : Utah, Idaho, Oklahoma, Arizona, Mississippi\n",
    "3. 2019 Top 5 Highest Education Funding State   : New York, District of Columbia, Connecticut, New Jersey, Vermont\n",
    "4. 2019 Top 5 Lowest Education Funding State    : Idaho, Utah, Arizona, Mississippi, Oklahoma"
   ]
  },
  {
   "cell_type": "code",
   "execution_count": 59,
   "metadata": {},
   "outputs": [
    {
     "data": {
      "text/html": [
       "<div>\n",
       "<style scoped>\n",
       "    .dataframe tbody tr th:only-of-type {\n",
       "        vertical-align: middle;\n",
       "    }\n",
       "\n",
       "    .dataframe tbody tr th {\n",
       "        vertical-align: top;\n",
       "    }\n",
       "\n",
       "    .dataframe thead th {\n",
       "        text-align: right;\n",
       "    }\n",
       "</style>\n",
       "<table border=\"1\" class=\"dataframe\">\n",
       "  <thead>\n",
       "    <tr style=\"text-align: right;\">\n",
       "      <th></th>\n",
       "      <th>state</th>\n",
       "      <th>dif_total_score</th>\n",
       "    </tr>\n",
       "  </thead>\n",
       "  <tbody>\n",
       "    <tr>\n",
       "      <th>44</th>\n",
       "      <td>Utah</td>\n",
       "      <td>219</td>\n",
       "    </tr>\n",
       "    <tr>\n",
       "      <th>11</th>\n",
       "      <td>Hawaii</td>\n",
       "      <td>90</td>\n",
       "    </tr>\n",
       "    <tr>\n",
       "      <th>41</th>\n",
       "      <td>South Dakota</td>\n",
       "      <td>28</td>\n",
       "    </tr>\n",
       "    <tr>\n",
       "      <th>28</th>\n",
       "      <td>Nevada</td>\n",
       "      <td>16</td>\n",
       "    </tr>\n",
       "    <tr>\n",
       "      <th>27</th>\n",
       "      <td>Nebraska</td>\n",
       "      <td>7</td>\n",
       "    </tr>\n",
       "  </tbody>\n",
       "</table>\n",
       "</div>"
      ],
      "text/plain": [
       "           state  dif_total_score\n",
       "44          Utah              219\n",
       "11        Hawaii               90\n",
       "41  South Dakota               28\n",
       "28        Nevada               16\n",
       "27      Nebraska                7"
      ]
     },
     "execution_count": 59,
     "metadata": {},
     "output_type": "execute_result"
    }
   ],
   "source": [
    "# Top 5 State Most Improved Total Score \n",
    "\n",
    "sat_merged[['state','dif_total_score']].sort_values(by = 'dif_total_score', ascending = False).head()"
   ]
  },
  {
   "cell_type": "code",
   "execution_count": 60,
   "metadata": {},
   "outputs": [
    {
     "data": {
      "text/html": [
       "<div>\n",
       "<style scoped>\n",
       "    .dataframe tbody tr th:only-of-type {\n",
       "        vertical-align: middle;\n",
       "    }\n",
       "\n",
       "    .dataframe tbody tr th {\n",
       "        vertical-align: top;\n",
       "    }\n",
       "\n",
       "    .dataframe thead th {\n",
       "        text-align: right;\n",
       "    }\n",
       "</style>\n",
       "<table border=\"1\" class=\"dataframe\">\n",
       "  <thead>\n",
       "    <tr style=\"text-align: right;\">\n",
       "      <th></th>\n",
       "      <th>state</th>\n",
       "      <th>dif_total_score</th>\n",
       "    </tr>\n",
       "  </thead>\n",
       "  <tbody>\n",
       "    <tr>\n",
       "      <th>35</th>\n",
       "      <td>Oklahoma</td>\n",
       "      <td>-100</td>\n",
       "    </tr>\n",
       "    <tr>\n",
       "      <th>9</th>\n",
       "      <td>Florida</td>\n",
       "      <td>-100</td>\n",
       "    </tr>\n",
       "    <tr>\n",
       "      <th>48</th>\n",
       "      <td>West Virginia</td>\n",
       "      <td>-56</td>\n",
       "    </tr>\n",
       "    <tr>\n",
       "      <th>40</th>\n",
       "      <td>South Carolina</td>\n",
       "      <td>-40</td>\n",
       "    </tr>\n",
       "    <tr>\n",
       "      <th>3</th>\n",
       "      <td>Arkansas</td>\n",
       "      <td>-27</td>\n",
       "    </tr>\n",
       "  </tbody>\n",
       "</table>\n",
       "</div>"
      ],
      "text/plain": [
       "             state  dif_total_score\n",
       "35        Oklahoma             -100\n",
       "9          Florida             -100\n",
       "48   West Virginia              -56\n",
       "40  South Carolina              -40\n",
       "3         Arkansas              -27"
      ]
     },
     "execution_count": 60,
     "metadata": {},
     "output_type": "execute_result"
    }
   ],
   "source": [
    "# Top 5 State Most Decline Total Score \n",
    "\n",
    "sat_merged[['state','dif_total_score']].sort_values(by = 'dif_total_score', ascending = True).head()"
   ]
  },
  {
   "cell_type": "markdown",
   "metadata": {},
   "source": [
    "#### Total Score Difference Between 2018 & 2019 Summary\n",
    "\n",
    "1. Top 5 State Most Improved Total Score   : Utah, Hawaii, South Dakota, Nevada, Nebraska\n",
    "2. Top 5 State Most Decline Total Score    : Oklahoma, Florida, West Virginia, South Carolina, Arkansas"
   ]
  },
  {
   "cell_type": "code",
   "execution_count": 61,
   "metadata": {},
   "outputs": [
    {
     "data": {
      "text/html": [
       "<div>\n",
       "<style scoped>\n",
       "    .dataframe tbody tr th:only-of-type {\n",
       "        vertical-align: middle;\n",
       "    }\n",
       "\n",
       "    .dataframe tbody tr th {\n",
       "        vertical-align: top;\n",
       "    }\n",
       "\n",
       "    .dataframe thead th {\n",
       "        text-align: right;\n",
       "    }\n",
       "</style>\n",
       "<table border=\"1\" class=\"dataframe\">\n",
       "  <thead>\n",
       "    <tr style=\"text-align: right;\">\n",
       "      <th></th>\n",
       "      <th>state</th>\n",
       "      <th>dif_funding</th>\n",
       "    </tr>\n",
       "  </thead>\n",
       "  <tbody>\n",
       "    <tr>\n",
       "      <th>4</th>\n",
       "      <td>California</td>\n",
       "      <td>1892</td>\n",
       "    </tr>\n",
       "    <tr>\n",
       "      <th>47</th>\n",
       "      <td>Washington</td>\n",
       "      <td>1228</td>\n",
       "    </tr>\n",
       "    <tr>\n",
       "      <th>32</th>\n",
       "      <td>New York</td>\n",
       "      <td>1091</td>\n",
       "    </tr>\n",
       "    <tr>\n",
       "      <th>35</th>\n",
       "      <td>Oklahoma</td>\n",
       "      <td>1084</td>\n",
       "    </tr>\n",
       "    <tr>\n",
       "      <th>30</th>\n",
       "      <td>New Jersey</td>\n",
       "      <td>986</td>\n",
       "    </tr>\n",
       "  </tbody>\n",
       "</table>\n",
       "</div>"
      ],
      "text/plain": [
       "         state  dif_funding\n",
       "4   California         1892\n",
       "47  Washington         1228\n",
       "32    New York         1091\n",
       "35    Oklahoma         1084\n",
       "30  New Jersey          986"
      ]
     },
     "execution_count": 61,
     "metadata": {},
     "output_type": "execute_result"
    }
   ],
   "source": [
    "# Top 5 State with Biggest Increase in Education Funding\n",
    "\n",
    "sat_merged[['state','dif_funding']].sort_values(by = 'dif_funding', ascending = False).head()"
   ]
  },
  {
   "cell_type": "markdown",
   "metadata": {},
   "source": [
    "#### Total 5 State with Biggest Increase in Education Funding Summary\n",
    "\n",
    "1. Top 5 State with Biggest Increase in Participation Rate   : California, Washington, New York, Oklahoma, New Jersey"
   ]
  },
  {
   "cell_type": "code",
   "execution_count": 62,
   "metadata": {},
   "outputs": [
    {
     "data": {
      "text/html": [
       "<div>\n",
       "<style scoped>\n",
       "    .dataframe tbody tr th:only-of-type {\n",
       "        vertical-align: middle;\n",
       "    }\n",
       "\n",
       "    .dataframe tbody tr th {\n",
       "        vertical-align: top;\n",
       "    }\n",
       "\n",
       "    .dataframe thead th {\n",
       "        text-align: right;\n",
       "    }\n",
       "</style>\n",
       "<table border=\"1\" class=\"dataframe\">\n",
       "  <thead>\n",
       "    <tr style=\"text-align: right;\">\n",
       "      <th></th>\n",
       "      <th>state</th>\n",
       "      <th>dif_participation</th>\n",
       "    </tr>\n",
       "  </thead>\n",
       "  <tbody>\n",
       "    <tr>\n",
       "      <th>48</th>\n",
       "      <td>West Virginia</td>\n",
       "      <td>0.71</td>\n",
       "    </tr>\n",
       "    <tr>\n",
       "      <th>9</th>\n",
       "      <td>Florida</td>\n",
       "      <td>0.44</td>\n",
       "    </tr>\n",
       "    <tr>\n",
       "      <th>35</th>\n",
       "      <td>Oklahoma</td>\n",
       "      <td>0.14</td>\n",
       "    </tr>\n",
       "    <tr>\n",
       "      <th>40</th>\n",
       "      <td>South Carolina</td>\n",
       "      <td>0.13</td>\n",
       "    </tr>\n",
       "    <tr>\n",
       "      <th>20</th>\n",
       "      <td>Maryland</td>\n",
       "      <td>0.06</td>\n",
       "    </tr>\n",
       "  </tbody>\n",
       "</table>\n",
       "</div>"
      ],
      "text/plain": [
       "             state  dif_participation\n",
       "48   West Virginia               0.71\n",
       "9          Florida               0.44\n",
       "35        Oklahoma               0.14\n",
       "40  South Carolina               0.13\n",
       "20        Maryland               0.06"
      ]
     },
     "execution_count": 62,
     "metadata": {},
     "output_type": "execute_result"
    }
   ],
   "source": [
    "# Top 5 State with Biggest Increase in Participation Rate\n",
    "\n",
    "sat_merged[['state','dif_participation']].sort_values(by = 'dif_participation', ascending = False).head()"
   ]
  },
  {
   "cell_type": "markdown",
   "metadata": {},
   "source": [
    "#### Total 5 State with Biggest Increase in Participation Rate Summary\n",
    "\n",
    "1. Top 5 State with Biggest Increase in Participation Rate   : West Virginia, Florida, Oklahoma, South Carolina, Maryland"
   ]
  },
  {
   "cell_type": "markdown",
   "metadata": {},
   "source": [
    "## Visualize the Data\n",
    "\n",
    "There's not a magic bullet recommendation for the right number of plots to understand a given dataset, but visualizing your data is *always* a good idea. Not only does it allow you to quickly convey your findings (even if you have a non-technical audience), it will often reveal trends in your data that escaped you when you were looking only at numbers. It is important to not only create visualizations, but to **interpret your visualizations** as well.\n",
    "\n",
    "**Every plot should**:\n",
    "- Have a title\n",
    "- Have axis labels\n",
    "- Have appropriate tick labels\n",
    "- Text is legible in a plot\n",
    "- Plots demonstrate meaningful and valid relationships\n",
    "- Have an interpretation to aid understanding\n",
    "\n",
    "Here is an example of what your plots should look like following the above guidelines. Note that while the content of this example is unrelated, the principles of visualization hold:\n",
    "\n",
    "![](https://snag.gy/hCBR1U.jpg)\n",
    "*Interpretation: The above image shows that as we increase our spending on advertising, our sales numbers also tend to increase. There is a positive correlation between advertising spending and sales.*\n",
    "\n",
    "---\n",
    "\n",
    "Here are some prompts to get you started with visualizations. Feel free to add additional visualizations as you see fit:\n",
    "1. Use Seaborn's heatmap with pandas `.corr()` to visualize correlations between all numeric features.\n",
    "    - Heatmaps are generally not appropriate for presentations, and should often be excluded from reports as they can be visually overwhelming. **However**, they can be extremely useful in identify relationships of potential interest (as well as identifying potential collinearity before modeling).\n",
    "    - Please take time to format your output, adding a title. Look through some of the additional arguments and options. (Axis labels aren't really necessary, as long as the title is informative).\n",
    "2. Visualize distributions using histograms. If you have a lot, consider writing a custom function and use subplots.\n",
    "    - *OPTIONAL*: Summarize the underlying distributions of your features (in words & statistics)\n",
    "         - Be thorough in your verbal description of these distributions.\n",
    "         - Be sure to back up these summaries with statistics.\n",
    "         - We generally assume that data we sample from a population will be normally distributed. Do we observe this trend? Explain your answers for each distribution and how you think this will affect estimates made from these data.\n",
    "3. Plot and interpret boxplots. \n",
    "    - Boxplots demonstrate central tendency and spread in variables. In a certain sense, these are somewhat redundant with histograms, but you may be better able to identify clear outliers or differences in IQR, etc.\n",
    "    - Multiple values can be plotted to a single boxplot as long as they are of the same relative scale (meaning they have similar min/max values).\n",
    "    - Each boxplot should:\n",
    "        - Only include variables of a similar scale\n",
    "        - Have clear labels for each variable\n",
    "        - Have appropriate titles and labels\n",
    "4. Plot and interpret scatter plots to view relationships between features. Feel free to write a custom function, and subplot if you'd like. Functions save both time and space.\n",
    "    - Your plots should have:\n",
    "        - Two clearly labeled axes\n",
    "        - A proper title\n",
    "        - Colors and symbols that are clear and unmistakable\n",
    "5. Additional plots of your choosing.\n",
    "    - Are there any additional trends or relationships you haven't explored? Was there something interesting you saw that you'd like to dive further into? It's likely that there are a few more plots you might want to generate to support your narrative and recommendations that you are building toward. **As always, make sure you're interpreting your plots as you go**."
   ]
  },
  {
   "cell_type": "code",
   "execution_count": 63,
   "metadata": {},
   "outputs": [
    {
     "data": {
      "image/png": "[encoded data removed]",
      "text/plain": [
       "<Figure size 864x864 with 2 Axes>"
      ]
     },
     "metadata": {
      "needs_background": "light"
     },
     "output_type": "display_data"
    }
   ],
   "source": [
    "# Plot heatmap using seaborn to visualize correlations between all numeric features.\n",
    "\n",
    "# Set the plot figure size\n",
    "plt.figure(figsize = (12,12))\n",
    "\n",
    "# Find the pairwise correlation of all columns in the dataframe\n",
    "corr = sat_merged.corr()          \n",
    "\n",
    "# Generate a mask for the upper triangle\n",
    "mask = np.zeros_like(corr)        \n",
    "mask[np.triu_indices_from(mask)] = True\n",
    "\n",
    "# Draw the heatmap with the mask\n",
    "sns.heatmap(corr, cmap = 'RdBu', vmin = -1, vmax = 1, mask = mask, annot = True)   \n",
    "\n",
    "# Set the heatmap title\n",
    "plt.title('2018 & 2019 SAT & Total Average Spent per Student Correlation Matrix', fontsize = 12)     \n",
    "plt.show()"
   ]
  },
  {
   "cell_type": "code",
   "execution_count": 64,
   "metadata": {},
   "outputs": [
    {
     "data": {
      "image/png": "[encoded data removed]",
      "text/plain": [
       "<Figure size 576x576 with 2 Axes>"
      ]
     },
     "metadata": {
      "needs_background": "light"
     },
     "output_type": "display_data"
    }
   ],
   "source": [
    "# Plot heatmap using seaborn to visualize correlations between all numeric features in 2018.\n",
    "\n",
    "# Set the plot figure size\n",
    "plt.figure(figsize = (8,8))\n",
    "\n",
    "# Find the pairwise correlation of all 2018 related columns in the dataframe\n",
    "corr = sat_merged[['sat_18_participation','sat_18_ebrw','sat_18_math','sat_18_total','funding_18_dollars']].corr()\n",
    "\n",
    "# Generate a mask for the upper triangle\n",
    "mask = np.zeros_like(corr)\n",
    "mask[np.triu_indices_from(mask)] = True \n",
    "\n",
    "# Draw the heatmap with the mask\n",
    "sns.heatmap(corr, cmap = 'RdBu', vmin = -1, vmax = 1, mask = mask, annot = True)\n",
    "\n",
    "# Set the heatmap title\n",
    "plt.title('2018 SAT & Total Average Spent per Student Correlation Matrix', fontsize = 12)\n",
    "plt.show()"
   ]
  },
  {
   "cell_type": "code",
   "execution_count": 65,
   "metadata": {},
   "outputs": [
    {
     "data": {
      "image/png": "[encoded data removed]",
      "text/plain": [
       "<Figure size 576x576 with 2 Axes>"
      ]
     },
     "metadata": {
      "needs_background": "light"
     },
     "output_type": "display_data"
    }
   ],
   "source": [
    "# Plot heatmap using seaborn to visualize correlations between all numeric features in 2018.\n",
    "\n",
    "# Set the plot figure size\n",
    "plt.figure(figsize = (8,8))\n",
    "\n",
    "# Find the pairwise correlation of all 2019 related columns in the dataframe\n",
    "corr = sat_merged[['sat_19_participation','sat_19_ebrw','sat_19_math','sat_19_total','funding_19_dollars']].corr()\n",
    "\n",
    "# Generate a mask for the upper triangle\n",
    "mask = np.zeros_like(corr)\n",
    "mask[np.triu_indices_from(mask)] = True \n",
    "\n",
    "# Draw the heatmap with the mask\n",
    "sns.heatmap(corr, cmap = 'RdBu', vmin = -1, vmax = 1, mask = mask, annot = True)\n",
    "\n",
    "# Set the heatmap title\n",
    "plt.title('2019 SAT & Total Average Spent per Student Correlation Matrix', fontsize = 12)\n",
    "plt.show()"
   ]
  },
  {
   "cell_type": "markdown",
   "metadata": {},
   "source": [
    "### Heatmap Summary\n",
    "\n",
    "1. Mean scores of each component exam and total score are highly negative correlated with participation rate (r = -0.76 ~ -0.87). This indicates an inverse relationship between the mean score and participation rate. Higher participation rate means lower mean scores and vice versa, due to lower achieving students on average taking the test.\n",
    "2. Mean score of a component exam are highly correlated with mean score of other component exam and mean total score (r = 0.95 ~ 1) as students tend to perform similarly across all subjects.\n",
    "3. Total average spent per student is weakly negative correlated with exam score (r = -0.21 ~ -0.24).\n",
    "4. However, total average spent per student is moderate positive correlated with participation rate (r = 0.44 ~ 0.48). "
   ]
  },
  {
   "cell_type": "code",
   "execution_count": 66,
   "metadata": {},
   "outputs": [],
   "source": [
    "# Defining a function to plot histogram \n",
    "\n",
    "def hist_subplots(df, features, titles, xlabel, ylabel, fig_name, bins_range = None):\n",
    "    \n",
    "    # Set the number of rows/columns and figure size for subplots\n",
    "    nrows = int(np.ceil(len(features)/2)) \n",
    "    fig, ax = plt.subplots(nrows = nrows, ncols = 2, figsize = (14,6), sharey = True)\n",
    "        \n",
    "    # Change a multi-dimensional array into a contiguous flattened array.\n",
    "    ax = ax.ravel()           \n",
    "    \n",
    "    # Draw the histogram \n",
    "    for i, feature in enumerate(features):\n",
    "        \n",
    "        # Set the histogram properties\n",
    "        ax[i].hist(df[feature], color = 'aquamarine', edgecolor = 'k', alpha = 0.7, label = ylabel, bins = bins_range) \n",
    "        \n",
    "        # Set the histogram title, x-label, y-label\n",
    "        ax[i].set_title(titles[i], fontsize = 14)  \n",
    "        ax[i].set_xlabel(xlabel)  \n",
    "        ax[i].set_ylabel(ylabel)  \n",
    "                         \n",
    "        # Draw the mean line of x-axis\n",
    "        ax[i].axvline(np.mean(df[feature]), color = 'red', linestyle = 'dashed', linewidth = 2, label = 'mean') \n",
    "        \n",
    "        # Collect the min & max value of y-axis and highlight the mean value at specific location on the graph\n",
    "        min_ylim, max_ylim = ax[i].set_ylim()  \n",
    "        ax[i].text(np.mean(df[feature]) * 1.01, max_ylim * 0.9, 'Mean = {:.2f}'.format(np.mean(df[feature])), fontsize = 10)\n",
    "        \n",
    "        # Set the legend location\n",
    "        ax[i].legend(loc = 'upper right')\n",
    "        plt.tight_layout();\n",
    "        \n",
    "    # Save the figure in a folder    \n",
    "    fig.savefig(fig_name)"
   ]
  },
  {
   "cell_type": "code",
   "execution_count": 67,
   "metadata": {},
   "outputs": [
    {
     "data": {
      "image/png": "[encoded data removed]",
      "text/plain": [
       "<Figure size 1008x432 with 2 Axes>"
      ]
     },
     "metadata": {
      "needs_background": "light"
     },
     "output_type": "display_data"
    }
   ],
   "source": [
    "# Plot histogram of 2018 & 2019 Participation Rate & set the bin range start from 0 to 1\n",
    "\n",
    "features = ['sat_18_participation','sat_19_participation']\n",
    "\n",
    "titles = ['\\n2018 SAT Participation Rate\\n', '\\n2019 SAT Participation Rate\\n']\n",
    "\n",
    "hist_subplots(sat_merged, features, titles, 'SAT Participation Rate', 'Count of States', '../image/2018 & 2019 Participation Rate Histogram.png', [0.1*i for i in range(0,11)])"
   ]
  },
  {
   "cell_type": "code",
   "execution_count": 68,
   "metadata": {},
   "outputs": [
    {
     "data": {
      "image/png": "[encoded data removed]",
      "text/plain": [
       "<Figure size 1008x432 with 2 Axes>"
      ]
     },
     "metadata": {
      "needs_background": "light"
     },
     "output_type": "display_data"
    }
   ],
   "source": [
    "# Plot histogram of 2018 & 2019 Total Score\n",
    "\n",
    "features = ['sat_18_total','sat_19_total']\n",
    "\n",
    "titles = ['\\n2018 SAT Total Score\\n', '\\n2019 SAT Total Score\\n']\n",
    "\n",
    "hist_subplots(sat_merged, features, titles, 'SAT Total Score', 'Count of States', '../image/2018 & 2019 Total Score Histogram.png')"
   ]
  },
  {
   "cell_type": "code",
   "execution_count": 69,
   "metadata": {},
   "outputs": [
    {
     "data": {
      "image/png": "[encoded data removed]",
      "text/plain": [
       "<Figure size 1008x432 with 2 Axes>"
      ]
     },
     "metadata": {
      "needs_background": "light"
     },
     "output_type": "display_data"
    }
   ],
   "source": [
    "# Plot histogram of 2018 & 2019 Total Average Spent per Student (USD)\n",
    "\n",
    "features = ['funding_18_dollars','funding_19_dollars']\n",
    "\n",
    "titles = ['\\n2018 Total Average Spent per Student\\n', '\\n2019 Total Average Spent per Student\\n']\n",
    "\n",
    "hist_subplots(sat_merged, features, titles, 'Total Average Spent per Student (USD)', 'Count of States', '../image/2018 & 2019 Education Histogram.png')"
   ]
  },
  {
   "cell_type": "markdown",
   "metadata": {},
   "source": [
    "#### Histogram Summary\n",
    "\n",
    "1. None of the variables has a normal distribution. The distributions for of all variables has not changed dramatically from 2018 to 2019.\n",
    "2. The participation rate vary across states with concentration around high rate (>90%) and low rate (<10%). There were multiple states each year that had 100% participation for the SAT. They were typically states that required all high school students to take the SAT as part of normal high school testing. They were Colorado, Connecticut, Delaware, Michigan, Idaho, Rhode Island and Illinois.\n",
    "3. The education funding variables tend to skewed to the right."
   ]
  },
  {
   "cell_type": "code",
   "execution_count": 70,
   "metadata": {},
   "outputs": [
    {
     "data": {
      "image/png": "[encoded data removed]",
      "text/plain": [
       "<Figure size 576x360 with 1 Axes>"
      ]
     },
     "metadata": {
      "needs_background": "light"
     },
     "output_type": "display_data"
    }
   ],
   "source": [
    "# Plot 2018 & 2019 SAT Participation Rate boxplot\n",
    "\n",
    "# Set the figure size\n",
    "plt.figure(figsize = (8,5))\n",
    "\n",
    "# Plot the boxplot\n",
    "sns.boxplot(data = sat_merged[['sat_18_participation', 'sat_19_participation']], orient = 'h')\n",
    "\n",
    "# Set the boxplot title & x-label\n",
    "plt.title('2018 vs 2019 SAT Participation Rate')\n",
    "plt.xlabel('SAT Participation Rate')\n",
    "\n",
    "plt.tight_layout()\n",
    "\n",
    "# Save the figure in a folder\n",
    "plt.savefig('../image/2018 & 2019 SAT Participation Rate Boxplot.png')\n",
    "\n",
    "plt.show()"
   ]
  },
  {
   "cell_type": "code",
   "execution_count": 71,
   "metadata": {},
   "outputs": [
    {
     "data": {
      "image/png": "[encoded data removed]",
      "text/plain": [
       "<Figure size 576x360 with 1 Axes>"
      ]
     },
     "metadata": {
      "needs_background": "light"
     },
     "output_type": "display_data"
    }
   ],
   "source": [
    "# Plot 2018 & 2019 SAT Total Score\n",
    "\n",
    "# Set the figure size\n",
    "plt.figure(figsize = (8,5))\n",
    "\n",
    "# Plot the boxplot\n",
    "sns.boxplot(data = sat_merged[['sat_18_total', 'sat_19_total']], orient = 'h')\n",
    "\n",
    "# Set the boxplot title\n",
    "plt.title('2018 vs 2019 SAT Total Score')\n",
    "plt.xlabel('SAT Total Score')\n",
    "\n",
    "plt.tight_layout()\n",
    "\n",
    "# Save the figure in a folder\n",
    "plt.savefig('../image/2018 & 2019 SAT Total Score Boxplot.png')\n",
    "\n",
    "plt.show()"
   ]
  },
  {
   "cell_type": "code",
   "execution_count": 72,
   "metadata": {},
   "outputs": [
    {
     "data": {
      "image/png": "[encoded data removed]",
      "text/plain": [
       "<Figure size 576x360 with 1 Axes>"
      ]
     },
     "metadata": {
      "needs_background": "light"
     },
     "output_type": "display_data"
    }
   ],
   "source": [
    "# Plot 2018 & 2019 Education Funding per Pupil\n",
    "\n",
    "# Set the figure size\n",
    "plt.figure(figsize = (8,5))\n",
    "\n",
    "# Plot the boxplot\n",
    "sns.boxplot(data = sat_merged[['funding_18_dollars','funding_19_dollars']], orient = 'h')\n",
    "\n",
    "# Set the boxplot title\n",
    "plt.title('2018 vs 2019 Total Average Spent per Student (USD)')\n",
    "plt.xlabel('Total Average Spent per Student (USD)')\n",
    "\n",
    "plt.tight_layout()\n",
    "\n",
    "# Save the figure in a folder\n",
    "plt.savefig('../image/2018 vs 2019 Education Funding per Pupil Boxplot.png')\n",
    "\n",
    "plt.show()"
   ]
  },
  {
   "cell_type": "markdown",
   "metadata": {},
   "source": [
    "### Boxplot Summary\n",
    "\n",
    "1. The participation rate boxplot is inversely correlate to total score because a wider range of students, with a wider range of college readiness, submit tests for scoring. This also can be explain from scatterplot below.\n",
    "2. The education funding boxplots has an outlier (New York), which are data value that are far away from other data values. The high school spending in New York in 2018-19 was driven primarily by instructional salaries and benefits — which were more than 100 percent above the national average on a per-student basis.\n",
    "3. The Total average spend per student has rise by nearly 3% to adjust for inflation."
   ]
  },
  {
   "cell_type": "code",
   "execution_count": 73,
   "metadata": {},
   "outputs": [],
   "source": [
    "# Defining a function to plot scatterplot \n",
    "\n",
    "def scatter_subplots(df, features, titles, xlabel, ylabel, fig_name):\n",
    "    \n",
    "    # Set the number of rows/columns and figure size for subplots\n",
    "    nrows = int(np.ceil(len(features)/2))\n",
    "    fig, ax = plt.subplots(nrows = nrows, ncols = 2, figsize = (14,6), sharey = True)\n",
    "   \n",
    "    # change a multi-dimensional array into a contiguous flattened array.\n",
    "    ax = ax.ravel()           \n",
    "    \n",
    "    # Draw the scatterplot \n",
    "    for i, feature in enumerate(features):\n",
    "        \n",
    "        # Set the scatterplot properties\n",
    "        ax[i].scatter(x = df[feature[0]], y = df[feature[1]], color = 'blue', label = ylabel)\n",
    "        \n",
    "        # Set the scatterplot title, x-label, y-label\n",
    "        ax[i].set_title(titles[i], fontsize = 12)\n",
    "        ax[i].set_xlabel(xlabel)\n",
    "        ax[i].set_ylabel(ylabel)\n",
    "        ax[i].grid()\n",
    "        \n",
    "        # Draw the best fit line of the scatterplot\n",
    "        X = df[[feature[0]]]\n",
    "        y = df[feature[1]]\n",
    "        lr = LinearRegression()\n",
    "        lr.fit(X,y)\n",
    "        y_pred = lr.predict(X)\n",
    "        ax[i].plot(df[feature[0]], y_pred, color = 'orange', label = 'Best Fit Line')\n",
    "        ax[i].legend(loc = 'upper right')\n",
    "        plt.tight_layout();\n",
    "    \n",
    "    # Save the figure in a folder  \n",
    "    fig.savefig(fig_name)"
   ]
  },
  {
   "cell_type": "code",
   "execution_count": 74,
   "metadata": {},
   "outputs": [
    {
     "data": {
      "image/png": "[encoded data removed]",
      "text/plain": [
       "<Figure size 1008x432 with 2 Axes>"
      ]
     },
     "metadata": {
      "needs_background": "light"
     },
     "output_type": "display_data"
    }
   ],
   "source": [
    "# Plot scatterplot of 2018 & 2019 SAT Score vs Participation Rate \n",
    "\n",
    "features = [['sat_18_participation','sat_18_total'], ['sat_19_participation','sat_19_total']]\n",
    "\n",
    "titles = ['\\n2018 SAT Score vs Participation Rate\\n', '\\n2019 SAT Score vs Participation Rate\\n']\n",
    "\n",
    "scatter_subplots(sat_merged, features, titles, 'SAT Participation Rate', 'SAT Total Score', '../image/2018 & 2019 SAT Score vs Participation Rate Scatterplot.png')"
   ]
  },
  {
   "cell_type": "code",
   "execution_count": 75,
   "metadata": {},
   "outputs": [
    {
     "data": {
      "image/png": "[encoded data removed]",
      "text/plain": [
       "<Figure size 1008x432 with 2 Axes>"
      ]
     },
     "metadata": {
      "needs_background": "light"
     },
     "output_type": "display_data"
    }
   ],
   "source": [
    "# Plot scatterplot of Total Average Spend per Student (USD) vs 2018 & 2019 Participation Rate\n",
    "\n",
    "features = [['sat_18_participation','funding_18_dollars'], ['sat_19_participation','funding_19_dollars']]\n",
    "\n",
    "titles = ['\\n2018 Total Average Spend per Student (USD) vs SAT Participation Rate\\n', '\\n2019 Total Average Spend per Student (USD) vs SAT Participation Rate\\n']\n",
    "\n",
    "scatter_subplots(sat_merged, features, titles, 'SAT Participation Rate', 'Total Average Spent per Student (USD)', '../image/2018 & 2019 Education Funding vs Participation Rate  Scatterplot.png')"
   ]
  },
  {
   "cell_type": "code",
   "execution_count": 76,
   "metadata": {},
   "outputs": [
    {
     "data": {
      "image/png": "[encoded data removed]",
      "text/plain": [
       "<Figure size 1008x432 with 2 Axes>"
      ]
     },
     "metadata": {
      "needs_background": "light"
     },
     "output_type": "display_data"
    }
   ],
   "source": [
    "# Plot scatterplot of Total Average Spend per Student (USD) vs 2018 & 2019 SAT Score \n",
    "\n",
    "features = [['sat_18_total', 'funding_18_dollars'], ['sat_19_total', 'funding_19_dollars']]\n",
    "\n",
    "titles = ['\\n2018 Total Average Spend per Student (USD) vs SAT Score\\n', '\\n2019 Total Average Spend per Student (USD) vs SAT Score\\n']\n",
    "\n",
    "scatter_subplots(sat_merged, features, titles, 'SAT Total Score', 'Total Average Spent per Student (USD)', '../image/2018 & 2019 Education Funding vs SAT Score Scatterplot.png')"
   ]
  },
  {
   "cell_type": "markdown",
   "metadata": {},
   "source": [
    "### Scatterplot Summary\n",
    "\n",
    "1. 2018 & 2019 scatterplots between SAT participation rate and SAT total score clearly demonstrate a strong inverse relationship. The lower rates of participation correspond with higher total score by state. A minor increase on SAT participation rate can impact SAT total score inversely. For every 10% increase in SAT participation rate , SAT score decreases by 18-20 marks.\n",
    "2. 2018 & 2019 scatterplots between Total Average Spend per Student (USD) and SAT Participation rate clearly demonstrate a moderate positive linear relationship. The higher spent per student correspond with higher SAT participation rates. A minor increase on total spend per student can impact SAT participation. For every \\\\$450-\\\\$500 dollar increase in total spend per student, there is a 10% increase in SAT participation rate.\n",
    "3. 2018 & 2019 scatterplots between Total Average Spend per Student (USD) and SAT Total score clearly demonstrate a weak negative relationship. Total Average Spend per Student has virtually mild effect on SAT scores. For every \\\\$1000 spent, SAT score decreases by 5-6 marks."
   ]
  },
  {
   "cell_type": "code",
   "execution_count": 77,
   "metadata": {},
   "outputs": [],
   "source": [
    "import plotly.express as px\n",
    "import plotly.io as pio\n",
    "pio.renderers.default = \"iframe\""
   ]
  },
  {
   "cell_type": "code",
   "execution_count": 78,
   "metadata": {},
   "outputs": [
    {
     "data": {
      "text/html": [
       "<iframe\n",
       "    scrolling=\"no\"\n",
       "    width=\"100%\"\n",
       "    height=\"545px\"\n",
       "    src=\"iframe_figures/figure_78.html\"\n",
       "    frameborder=\"0\"\n",
       "    allowfullscreen\n",
       "></iframe>\n"
      ]
     },
     "metadata": {},
     "output_type": "display_data"
    }
   ],
   "source": [
    "# Plot Choropleth maps for 2018 Total Average Spend per Student (USD)\n",
    "fig = px.choropleth(sat_merged,\n",
    "                    locations = 'code',    # sets the coordinates via names\n",
    "                    color = 'funding_18_dollars',    # value to change the color of the state\n",
    "                    color_continuous_scale = 'spectral_r', # set color scheme\n",
    "                    hover_name = 'state',\n",
    "                    locationmode = 'USA-states',    # determines to match entries in locations to regions on the map\n",
    "                    scope = 'usa',    # limits the map to this value.\n",
    "                    labels = {'funding_18_dollars' : '2018 Fund USD'})\n",
    "\n",
    "# Add abbreviated state labels\n",
    "fig.add_scattergeo(locations = sat_merged['code'],\n",
    "                  locationmode='USA-states',\n",
    "                  text = sat_merged['code'],\n",
    "                  mode = 'text')\n",
    "\n",
    "# Add map title\n",
    "fig.update_layout(title={'text':'2018 Total Average Spend per Student (USD)',\n",
    "           'xanchor':'center',\n",
    "           'yanchor':'top',\n",
    "           'x':0.5})\n",
    "\n",
    "fig.show()"
   ]
  },
  {
   "cell_type": "code",
   "execution_count": 79,
   "metadata": {},
   "outputs": [
    {
     "data": {
      "text/html": [
       "<iframe\n",
       "    scrolling=\"no\"\n",
       "    width=\"100%\"\n",
       "    height=\"545px\"\n",
       "    src=\"iframe_figures/figure_79.html\"\n",
       "    frameborder=\"0\"\n",
       "    allowfullscreen\n",
       "></iframe>\n"
      ]
     },
     "metadata": {},
     "output_type": "display_data"
    }
   ],
   "source": [
    "# Plot Choropleth maps for 2019 Total Average Spend per Student (USD)\n",
    "fig = px.choropleth(sat_merged,\n",
    "                    locations = 'code',\n",
    "                    color = 'funding_19_dollars', \n",
    "                    color_continuous_scale = 'spectral_r',\n",
    "                    hover_name = 'state',\n",
    "                    locationmode = 'USA-states',\n",
    "                    scope = 'usa',\n",
    "                    labels = {'funding_19_dollars' : '2019 Fund USD'})\n",
    "\n",
    "# Add abbreviated state labels\n",
    "fig.add_scattergeo(locations = sat_merged['code'],\n",
    "                  locationmode='USA-states',\n",
    "                  text = sat_merged['code'],\n",
    "                  mode = 'text')\n",
    "\n",
    "# Add map title\n",
    "fig.update_layout(title={'text':'2019 Total Average Spend per Student (USD)',\n",
    "           'xanchor':'center',\n",
    "           'yanchor':'top',\n",
    "           'x':0.5})\n",
    "\n",
    "fig.show()"
   ]
  },
  {
   "cell_type": "code",
   "execution_count": 80,
   "metadata": {},
   "outputs": [
    {
     "data": {
      "text/html": [
       "<iframe\n",
       "    scrolling=\"no\"\n",
       "    width=\"100%\"\n",
       "    height=\"545px\"\n",
       "    src=\"iframe_figures/figure_80.html\"\n",
       "    frameborder=\"0\"\n",
       "    allowfullscreen\n",
       "></iframe>\n"
      ]
     },
     "metadata": {},
     "output_type": "display_data"
    }
   ],
   "source": [
    "# Plot Choropleth maps for SAT 2018 Participation Rate\n",
    "fig = px.choropleth(sat_merged,\n",
    "                    locations = 'code',\n",
    "                    color = 'sat_18_participation', \n",
    "                    color_continuous_scale = 'spectral_r',\n",
    "                    hover_name = 'state',\n",
    "                    locationmode = 'USA-states',\n",
    "                    scope = 'usa',\n",
    "                    labels = {'sat_18_participation' : 'Participation Rate'})\n",
    "\n",
    "# Add abbreviated state labels\n",
    "fig.add_scattergeo(locations = sat_merged['code'],\n",
    "                  locationmode='USA-states',\n",
    "                  text = sat_merged['code'],\n",
    "                  mode = 'text')\n",
    "\n",
    "# Add map title\n",
    "fig.update_layout(title={'text':'SAT 2018 Participation Rate',\n",
    "           'xanchor':'center',\n",
    "           'yanchor':'top',\n",
    "           'x':0.5})\n",
    "\n",
    "fig.show()"
   ]
  },
  {
   "cell_type": "code",
   "execution_count": 81,
   "metadata": {},
   "outputs": [
    {
     "data": {
      "text/html": [
       "<iframe\n",
       "    scrolling=\"no\"\n",
       "    width=\"100%\"\n",
       "    height=\"545px\"\n",
       "    src=\"iframe_figures/figure_81.html\"\n",
       "    frameborder=\"0\"\n",
       "    allowfullscreen\n",
       "></iframe>\n"
      ]
     },
     "metadata": {},
     "output_type": "display_data"
    }
   ],
   "source": [
    "# Plot Choropleth maps for SAT 2019 Participation Rate\n",
    "fig = px.choropleth(sat_merged,\n",
    "                    locations = 'code',\n",
    "                    color = 'sat_19_participation', \n",
    "                    color_continuous_scale = 'spectral_r',\n",
    "                    hover_name = 'state',\n",
    "                    locationmode = 'USA-states',\n",
    "                    scope = 'usa',\n",
    "                    labels = {'sat_19_participation' : 'Participation Rate'})\n",
    "\n",
    "# Add abbreviated state labels\n",
    "fig.add_scattergeo(locations = sat_merged['code'],\n",
    "                  locationmode='USA-states',\n",
    "                  text = sat_merged['code'],\n",
    "                  mode = 'text')\n",
    "\n",
    "# Add map title\n",
    "fig.update_layout(title={'text':'SAT 2019 Participation Rate',\n",
    "           'xanchor':'center',\n",
    "           'yanchor':'top',\n",
    "           'x':0.5})\n",
    "\n",
    "fig.show()"
   ]
  },
  {
   "cell_type": "code",
   "execution_count": 82,
   "metadata": {},
   "outputs": [
    {
     "data": {
      "text/html": [
       "<iframe\n",
       "    scrolling=\"no\"\n",
       "    width=\"100%\"\n",
       "    height=\"545px\"\n",
       "    src=\"iframe_figures/figure_82.html\"\n",
       "    frameborder=\"0\"\n",
       "    allowfullscreen\n",
       "></iframe>\n"
      ]
     },
     "metadata": {},
     "output_type": "display_data"
    }
   ],
   "source": [
    "# Plot Choropleth maps for SAT 2018 Total Score using plotly.express\n",
    "fig = px.choropleth(sat_merged,\n",
    "                    locations = 'code',\n",
    "                    color = 'sat_18_total', \n",
    "                    color_continuous_scale = 'spectral_r',\n",
    "                    hover_name = 'state',\n",
    "                    locationmode = 'USA-states',\n",
    "                    scope = 'usa',\n",
    "                    labels = {'sat_18_total' : 'SAT 2018 Total Score'})\n",
    "\n",
    "# Add abbreviated state labels\n",
    "fig.add_scattergeo(locations = sat_merged['code'],\n",
    "                  locationmode='USA-states',\n",
    "                  text = sat_merged['code'],\n",
    "                  mode = 'text')\n",
    "\n",
    "# Add map title\n",
    "fig.update_layout(title={'text':'SAT 2018 Total Score',\n",
    "           'xanchor':'center',\n",
    "           'yanchor':'top',\n",
    "           'x':0.5})\n",
    "\n",
    "fig.show()"
   ]
  },
  {
   "cell_type": "code",
   "execution_count": 83,
   "metadata": {
    "tags": []
   },
   "outputs": [
    {
     "data": {
      "text/html": [
       "<iframe\n",
       "    scrolling=\"no\"\n",
       "    width=\"100%\"\n",
       "    height=\"545px\"\n",
       "    src=\"iframe_figures/figure_83.html\"\n",
       "    frameborder=\"0\"\n",
       "    allowfullscreen\n",
       "></iframe>\n"
      ]
     },
     "metadata": {},
     "output_type": "display_data"
    }
   ],
   "source": [
    "# Plot Choropleth maps for SAT 2019 Total Score\n",
    "fig = px.choropleth(sat_merged,\n",
    "                    locations = 'code',\n",
    "                    color = 'sat_19_total', \n",
    "                    color_continuous_scale = 'spectral_r',\n",
    "                    hover_name = 'state',\n",
    "                    locationmode = 'USA-states',\n",
    "                    scope = 'usa',\n",
    "                    labels = {'sat_19_total' : 'SAT 2019 Total Score'})\n",
    "\n",
    "# Add abbreviated state labels\n",
    "fig.add_scattergeo(locations = sat_merged['code'],\n",
    "                  locationmode='USA-states',\n",
    "                  text = sat_merged['code'],\n",
    "                  mode = 'text')\n",
    "\n",
    "# Add map title\n",
    "fig.update_layout(title={'text':'SAT 2019 Total Score',\n",
    "           'xanchor':'center',\n",
    "           'yanchor':'top',\n",
    "           'x':0.5})\n",
    "\n",
    "fig.show()"
   ]
  },
  {
   "cell_type": "markdown",
   "metadata": {},
   "source": [
    "## Conclusions and Recommendations"
   ]
  },
  {
   "cell_type": "markdown",
   "metadata": {},
   "source": [
    "Based on your exploration of the data, what are you key takeaways and recommendations? Make sure to answer your question of interest or address your problem statement here."
   ]
  },
  {
   "cell_type": "markdown",
   "metadata": {},
   "source": [
    "#### Conclusions\n",
    "1. SAT scores are inversely correlated with participation rates. Nearly 960,000 students(43%) in the class of 2019 took the SAT on a school day, up from nearly 780,000(36%) in the class. This explain why the SAT average total score in 2019 dropped 6 points compare to average total score in 2018. As low participation means those who are participating tend to be higher achieving, and high participation means diluted quality of performance.\n",
    "\n",
    "2. Total Average Spend per Student (USD) is moderate positive linear relationship with SAT Participation rate. The higher spent per student correspond with higher SAT participation rates. This is because in a better-funded state, the schools would be able to get more resources, increase enrollment in rigorous coursework, provide additional student support (in and out of school), increase student and family awareness of college accessibility and may expand the expectations of their staff to establish a “college going culture.”\n",
    "\n",
    "3. Total Average Spend per Student (USD) and SAT Total score clearly demonstrate a weak negative relationship. Total Average Spend per Student has virtually mild effect on SAT scores. In fact the average state saw SAT scores decline by 0.6%. \n",
    "\n",
    "#### Recommendations\n",
    "1. The best way to distribute the additional funding is to increase SAT participation rate by incentivize states with improved SAT scores. Thus, the schools able to increase student of college accessibility and expand the expectations of their staff to establish a “college going culture.”\n",
    "2. Proposed recipients\n",
    "    - Utah\n",
    "    - Hawaii \n",
    "    - South Dakota\n",
    "    - Nevada\n",
    "    - Nebraska"
   ]
  },
  {
   "cell_type": "markdown",
   "metadata": {},
   "source": [
    "## References\n",
    "\n",
    "1. https://www.empirecenter.org/publications/ny-per-pupil-school-spending-topped-25k-in-2018-19/\n",
    "2. https://www.silive.com/education/2021/05/how-much-does-new-york-spend-on-each-student.html\n",
    "3. https://www.insidehighered.com/news/2021/05/26/state-higher-ed-funding-increased-29-last-year\n",
    "4. https://www.applerouth.com/blog/2019/10/15/sat-annual-report-releases-score-trends-in-2018/\n",
    "5. https://newsroom.collegeboard.org/over-22-million-students-class-2019-took-sat-largest-group-ever\n",
    "6. https://www.census.gov/data/tables/2018/econ/school-finances/secondary-education-finance.html\n",
    "7. https://www.census.gov/data/tables/2019/econ/school-finances/secondary-education-finance.html\n",
    "8. https://www.hanoverresearch.com/media/Best-Practices-to-Increase-SAT-Participation-1.pdf"
   ]
  }
 ],
 "metadata": {
  "anaconda-cloud": {},
  "kernelspec": {
   "display_name": "Python 3",
   "language": "python",
   "name": "python3"
  },
  "language_info": {
   "codemirror_mode": {
    "name": "ipython",
    "version": 3
   },
   "file_extension": ".py",
   "mimetype": "text/x-python",
   "name": "python",
   "nbconvert_exporter": "python",
   "pygments_lexer": "ipython3",
   "version": "3.8.8"
  }
 },
 "nbformat": 4,
 "nbformat_minor": 4
}
